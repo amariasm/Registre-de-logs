{
 "cells": [
  {
   "cell_type": "markdown",
   "id": "0f5f1044-af82-496b-be24-725ff32b754f",
   "metadata": {},
   "source": [
    "# Sprint 4: S04 T01: Transformació Registre Log amb Regular expressions\n",
    "\n",
    "## Nivell 1\n",
    "### Exercici 1\n",
    "#### Estandaritza, identifica i enumera cada un dels atributs / variables de l'estructura de l'arxiu \"Web_access_log-akumenius.com\" que trobaràs al repositori de GitHub \"Data-sources\"."
   ]
  },
  {
   "cell_type": "code",
   "execution_count": 245,
   "id": "d7f81fbb-e50b-417c-93ba-8528a854aa24",
   "metadata": {},
   "outputs": [],
   "source": [
    "import numpy as np\n",
    "import pandas as pd\n",
    "import matplotlib.pyplot as plt\n",
    "import seaborn as sns\n",
    "import re\n",
    "import requests\n",
    "import json\n",
    "import warnings\n",
    "\n",
    "warnings.filterwarnings('ignore')"
   ]
  },
  {
   "cell_type": "code",
   "execution_count": 246,
   "id": "c70a5393-aaee-45a1-8b15-dd1009f005ae",
   "metadata": {},
   "outputs": [
    {
     "data": {
      "text/html": [
       "<div>\n",
       "<style scoped>\n",
       "    .dataframe tbody tr th:only-of-type {\n",
       "        vertical-align: middle;\n",
       "    }\n",
       "\n",
       "    .dataframe tbody tr th {\n",
       "        vertical-align: top;\n",
       "    }\n",
       "\n",
       "    .dataframe thead th {\n",
       "        text-align: right;\n",
       "    }\n",
       "</style>\n",
       "<table border=\"1\" class=\"dataframe\">\n",
       "  <thead>\n",
       "    <tr style=\"text-align: right;\">\n",
       "      <th></th>\n",
       "      <th>0</th>\n",
       "    </tr>\n",
       "  </thead>\n",
       "  <tbody>\n",
       "    <tr>\n",
       "      <th>0</th>\n",
       "      <td>localhost 127.0.0.1 - - [23/Feb/2014:03:10:31 ...</td>\n",
       "    </tr>\n",
       "    <tr>\n",
       "      <th>1</th>\n",
       "      <td>localhost 127.0.0.1 - - [23/Feb/2014:03:10:31 ...</td>\n",
       "    </tr>\n",
       "    <tr>\n",
       "      <th>2</th>\n",
       "      <td>localhost 127.0.0.1 - - [23/Feb/2014:03:10:31 ...</td>\n",
       "    </tr>\n",
       "    <tr>\n",
       "      <th>3</th>\n",
       "      <td>localhost 127.0.0.1 - - [23/Feb/2014:03:10:31 ...</td>\n",
       "    </tr>\n",
       "    <tr>\n",
       "      <th>4</th>\n",
       "      <td>localhost 127.0.0.1 - - [23/Feb/2014:03:10:31 ...</td>\n",
       "    </tr>\n",
       "    <tr>\n",
       "      <th>...</th>\n",
       "      <td>...</td>\n",
       "    </tr>\n",
       "    <tr>\n",
       "      <th>261868</th>\n",
       "      <td>www.akumenius.com 5.255.253.53 - - [02/Mar/201...</td>\n",
       "    </tr>\n",
       "    <tr>\n",
       "      <th>261869</th>\n",
       "      <td>www.akumenius.com 74.86.158.107 - - [02/Mar/20...</td>\n",
       "    </tr>\n",
       "    <tr>\n",
       "      <th>261870</th>\n",
       "      <td>localhost 127.0.0.1 - - [02/Mar/2014:03:10:18 ...</td>\n",
       "    </tr>\n",
       "    <tr>\n",
       "      <th>261871</th>\n",
       "      <td>localhost 127.0.0.1 - - [02/Mar/2014:03:10:18 ...</td>\n",
       "    </tr>\n",
       "    <tr>\n",
       "      <th>261872</th>\n",
       "      <td>localhost 127.0.0.1 - - [02/Mar/2014:03:10:18 ...</td>\n",
       "    </tr>\n",
       "  </tbody>\n",
       "</table>\n",
       "<p>261873 rows × 1 columns</p>\n",
       "</div>"
      ],
      "text/plain": [
       "                                                        0\n",
       "0       localhost 127.0.0.1 - - [23/Feb/2014:03:10:31 ...\n",
       "1       localhost 127.0.0.1 - - [23/Feb/2014:03:10:31 ...\n",
       "2       localhost 127.0.0.1 - - [23/Feb/2014:03:10:31 ...\n",
       "3       localhost 127.0.0.1 - - [23/Feb/2014:03:10:31 ...\n",
       "4       localhost 127.0.0.1 - - [23/Feb/2014:03:10:31 ...\n",
       "...                                                   ...\n",
       "261868  www.akumenius.com 5.255.253.53 - - [02/Mar/201...\n",
       "261869  www.akumenius.com 74.86.158.107 - - [02/Mar/20...\n",
       "261870  localhost 127.0.0.1 - - [02/Mar/2014:03:10:18 ...\n",
       "261871  localhost 127.0.0.1 - - [02/Mar/2014:03:10:18 ...\n",
       "261872  localhost 127.0.0.1 - - [02/Mar/2014:03:10:18 ...\n",
       "\n",
       "[261873 rows x 1 columns]"
      ]
     },
     "execution_count": 246,
     "metadata": {},
     "output_type": "execute_result"
    }
   ],
   "source": [
    "data = pd.read_fwf(r\"C:\\Users\\hecto\\OneDrive\\Documentos\\IT Data Science\\Sprint4\\Sprint4Ex1\\Web_access_log-akumenius.com.txt\\Web_access_log-akumenius.com.txt\", header=None)\n",
    "data"
   ]
  },
  {
   "cell_type": "markdown",
   "id": "4bff21e7-4d67-4bd9-8735-0170ae2db608",
   "metadata": {},
   "source": [
    "###### Para realizar la conversión del archivo he utilizado una Regular Expression que estaba definida en la libreria de regex previamente por otro usuario.\n",
    "###### Se ha verificado que la expresión definida coincidía con un registro aleatorio de la lectura de \"data\" y renombrado alguno de los campos"
   ]
  },
  {
   "cell_type": "markdown",
   "id": "9cefd7b9-b227-4283-a073-c5b35e5e4e77",
   "metadata": {},
   "source": [
    "https://regex101.com/r/HD415R/1"
   ]
  },
  {
   "cell_type": "code",
   "execution_count": 247,
   "id": "a072d1d1-c446-48cb-b022-149d1f2d778a",
   "metadata": {},
   "outputs": [],
   "source": [
    "regex = r'^(?P<hostTitle>.*?[A-Za-z\\.]*) (?P<ip>[0-9\\.]*) - - \\[(?P<dateTime>.*)\\] \"(?P<request>[A-Z]*) (?P<requested>[^ ]*) (?P<protocol>[^\"]*)\" (?P<code>[0-9]*) (?P<code2>[0-9]*)[^\"]*\"(?P<code_body>[^\"]*)\" \"(?P<userAccess>[^\"]*)\" VLOG=-$'"
   ]
  },
  {
   "cell_type": "code",
   "execution_count": 248,
   "id": "9baeca9f-dbb1-451c-a760-31c229dfe838",
   "metadata": {},
   "outputs": [
    {
     "data": {
      "text/html": [
       "<div>\n",
       "<style scoped>\n",
       "    .dataframe tbody tr th:only-of-type {\n",
       "        vertical-align: middle;\n",
       "    }\n",
       "\n",
       "    .dataframe tbody tr th {\n",
       "        vertical-align: top;\n",
       "    }\n",
       "\n",
       "    .dataframe thead th {\n",
       "        text-align: right;\n",
       "    }\n",
       "</style>\n",
       "<table border=\"1\" class=\"dataframe\">\n",
       "  <thead>\n",
       "    <tr style=\"text-align: right;\">\n",
       "      <th></th>\n",
       "      <th>hostTitle</th>\n",
       "      <th>ip</th>\n",
       "      <th>dateTime</th>\n",
       "      <th>request</th>\n",
       "      <th>requested</th>\n",
       "      <th>protocol</th>\n",
       "      <th>code</th>\n",
       "      <th>code2</th>\n",
       "      <th>code_body</th>\n",
       "      <th>userAccess</th>\n",
       "    </tr>\n",
       "  </thead>\n",
       "  <tbody>\n",
       "    <tr>\n",
       "      <th>0</th>\n",
       "      <td>localhost</td>\n",
       "      <td>127.0.0.1</td>\n",
       "      <td>23/Feb/2014:03:10:31 +0100</td>\n",
       "      <td>OPTIONS</td>\n",
       "      <td>*</td>\n",
       "      <td>HTTP/1.0</td>\n",
       "      <td>200</td>\n",
       "      <td></td>\n",
       "      <td>-</td>\n",
       "      <td>Apache (internal dummy connection)</td>\n",
       "    </tr>\n",
       "    <tr>\n",
       "      <th>1</th>\n",
       "      <td>localhost</td>\n",
       "      <td>127.0.0.1</td>\n",
       "      <td>23/Feb/2014:03:10:31 +0100</td>\n",
       "      <td>OPTIONS</td>\n",
       "      <td>*</td>\n",
       "      <td>HTTP/1.0</td>\n",
       "      <td>200</td>\n",
       "      <td></td>\n",
       "      <td>-</td>\n",
       "      <td>Apache (internal dummy connection)</td>\n",
       "    </tr>\n",
       "    <tr>\n",
       "      <th>2</th>\n",
       "      <td>localhost</td>\n",
       "      <td>127.0.0.1</td>\n",
       "      <td>23/Feb/2014:03:10:31 +0100</td>\n",
       "      <td>OPTIONS</td>\n",
       "      <td>*</td>\n",
       "      <td>HTTP/1.0</td>\n",
       "      <td>200</td>\n",
       "      <td></td>\n",
       "      <td>-</td>\n",
       "      <td>Apache (internal dummy connection)</td>\n",
       "    </tr>\n",
       "    <tr>\n",
       "      <th>3</th>\n",
       "      <td>localhost</td>\n",
       "      <td>127.0.0.1</td>\n",
       "      <td>23/Feb/2014:03:10:31 +0100</td>\n",
       "      <td>OPTIONS</td>\n",
       "      <td>*</td>\n",
       "      <td>HTTP/1.0</td>\n",
       "      <td>200</td>\n",
       "      <td></td>\n",
       "      <td>-</td>\n",
       "      <td>Apache (internal dummy connection)</td>\n",
       "    </tr>\n",
       "    <tr>\n",
       "      <th>4</th>\n",
       "      <td>localhost</td>\n",
       "      <td>127.0.0.1</td>\n",
       "      <td>23/Feb/2014:03:10:31 +0100</td>\n",
       "      <td>OPTIONS</td>\n",
       "      <td>*</td>\n",
       "      <td>HTTP/1.0</td>\n",
       "      <td>200</td>\n",
       "      <td></td>\n",
       "      <td>-</td>\n",
       "      <td>Apache (internal dummy connection)</td>\n",
       "    </tr>\n",
       "    <tr>\n",
       "      <th>...</th>\n",
       "      <td>...</td>\n",
       "      <td>...</td>\n",
       "      <td>...</td>\n",
       "      <td>...</td>\n",
       "      <td>...</td>\n",
       "      <td>...</td>\n",
       "      <td>...</td>\n",
       "      <td>...</td>\n",
       "      <td>...</td>\n",
       "      <td>...</td>\n",
       "    </tr>\n",
       "    <tr>\n",
       "      <th>261868</th>\n",
       "      <td>www.akumenius.com</td>\n",
       "      <td>5.255.253.53</td>\n",
       "      <td>02/Mar/2014:03:05:39 +0100</td>\n",
       "      <td>GET</td>\n",
       "      <td>/</td>\n",
       "      <td>HTTP/1.1</td>\n",
       "      <td>200</td>\n",
       "      <td>7528</td>\n",
       "      <td>-</td>\n",
       "      <td>Mozilla/5.0 (compatible; YandexBot/3.0; +http:...</td>\n",
       "    </tr>\n",
       "    <tr>\n",
       "      <th>261869</th>\n",
       "      <td>www.akumenius.com</td>\n",
       "      <td>74.86.158.107</td>\n",
       "      <td>02/Mar/2014:03:09:52 +0100</td>\n",
       "      <td>HEAD</td>\n",
       "      <td>/</td>\n",
       "      <td>HTTP/1.1</td>\n",
       "      <td>200</td>\n",
       "      <td></td>\n",
       "      <td>-</td>\n",
       "      <td>Mozilla/5.0+(compatible; UptimeRobot/2.0; http...</td>\n",
       "    </tr>\n",
       "    <tr>\n",
       "      <th>261870</th>\n",
       "      <td>localhost</td>\n",
       "      <td>127.0.0.1</td>\n",
       "      <td>02/Mar/2014:03:10:18 +0100</td>\n",
       "      <td>OPTIONS</td>\n",
       "      <td>*</td>\n",
       "      <td>HTTP/1.0</td>\n",
       "      <td>200</td>\n",
       "      <td></td>\n",
       "      <td>-</td>\n",
       "      <td>Apache (internal dummy connection)</td>\n",
       "    </tr>\n",
       "    <tr>\n",
       "      <th>261871</th>\n",
       "      <td>localhost</td>\n",
       "      <td>127.0.0.1</td>\n",
       "      <td>02/Mar/2014:03:10:18 +0100</td>\n",
       "      <td>OPTIONS</td>\n",
       "      <td>*</td>\n",
       "      <td>HTTP/1.0</td>\n",
       "      <td>200</td>\n",
       "      <td></td>\n",
       "      <td>-</td>\n",
       "      <td>Apache (internal dummy connection)</td>\n",
       "    </tr>\n",
       "    <tr>\n",
       "      <th>261872</th>\n",
       "      <td>localhost</td>\n",
       "      <td>127.0.0.1</td>\n",
       "      <td>02/Mar/2014:03:10:18 +0100</td>\n",
       "      <td>OPTIONS</td>\n",
       "      <td>*</td>\n",
       "      <td>HTTP/1.0</td>\n",
       "      <td>200</td>\n",
       "      <td></td>\n",
       "      <td>-</td>\n",
       "      <td>Apache (internal dummy connection)</td>\n",
       "    </tr>\n",
       "  </tbody>\n",
       "</table>\n",
       "<p>261873 rows × 10 columns</p>\n",
       "</div>"
      ],
      "text/plain": [
       "                hostTitle             ip                    dateTime  request  \\\n",
       "0               localhost      127.0.0.1  23/Feb/2014:03:10:31 +0100  OPTIONS   \n",
       "1               localhost      127.0.0.1  23/Feb/2014:03:10:31 +0100  OPTIONS   \n",
       "2               localhost      127.0.0.1  23/Feb/2014:03:10:31 +0100  OPTIONS   \n",
       "3               localhost      127.0.0.1  23/Feb/2014:03:10:31 +0100  OPTIONS   \n",
       "4               localhost      127.0.0.1  23/Feb/2014:03:10:31 +0100  OPTIONS   \n",
       "...                   ...            ...                         ...      ...   \n",
       "261868  www.akumenius.com   5.255.253.53  02/Mar/2014:03:05:39 +0100      GET   \n",
       "261869  www.akumenius.com  74.86.158.107  02/Mar/2014:03:09:52 +0100     HEAD   \n",
       "261870          localhost      127.0.0.1  02/Mar/2014:03:10:18 +0100  OPTIONS   \n",
       "261871          localhost      127.0.0.1  02/Mar/2014:03:10:18 +0100  OPTIONS   \n",
       "261872          localhost      127.0.0.1  02/Mar/2014:03:10:18 +0100  OPTIONS   \n",
       "\n",
       "       requested  protocol code code2 code_body  \\\n",
       "0              *  HTTP/1.0  200               -   \n",
       "1              *  HTTP/1.0  200               -   \n",
       "2              *  HTTP/1.0  200               -   \n",
       "3              *  HTTP/1.0  200               -   \n",
       "4              *  HTTP/1.0  200               -   \n",
       "...          ...       ...  ...   ...       ...   \n",
       "261868         /  HTTP/1.1  200  7528         -   \n",
       "261869         /  HTTP/1.1  200               -   \n",
       "261870         *  HTTP/1.0  200               -   \n",
       "261871         *  HTTP/1.0  200               -   \n",
       "261872         *  HTTP/1.0  200               -   \n",
       "\n",
       "                                               userAccess  \n",
       "0                      Apache (internal dummy connection)  \n",
       "1                      Apache (internal dummy connection)  \n",
       "2                      Apache (internal dummy connection)  \n",
       "3                      Apache (internal dummy connection)  \n",
       "4                      Apache (internal dummy connection)  \n",
       "...                                                   ...  \n",
       "261868  Mozilla/5.0 (compatible; YandexBot/3.0; +http:...  \n",
       "261869  Mozilla/5.0+(compatible; UptimeRobot/2.0; http...  \n",
       "261870                 Apache (internal dummy connection)  \n",
       "261871                 Apache (internal dummy connection)  \n",
       "261872                 Apache (internal dummy connection)  \n",
       "\n",
       "[261873 rows x 10 columns]"
      ]
     },
     "execution_count": 248,
     "metadata": {},
     "output_type": "execute_result"
    }
   ],
   "source": [
    "dataRegEx = data[0].str.extract(regex, flags=re.MULTILINE)\n",
    "dataRegEx"
   ]
  },
  {
   "cell_type": "code",
   "execution_count": 249,
   "id": "cca4c43e-34c3-4771-8087-1a3924f64625",
   "metadata": {},
   "outputs": [
    {
     "name": "stdout",
     "output_type": "stream",
     "text": [
      "<class 'pandas.core.frame.DataFrame'>\n",
      "RangeIndex: 261873 entries, 0 to 261872\n",
      "Data columns (total 10 columns):\n",
      " #   Column      Non-Null Count   Dtype \n",
      "---  ------      --------------   ----- \n",
      " 0   hostTitle   171674 non-null  object\n",
      " 1   ip          171674 non-null  object\n",
      " 2   dateTime    171674 non-null  object\n",
      " 3   request     171674 non-null  object\n",
      " 4   requested   171674 non-null  object\n",
      " 5   protocol    171674 non-null  object\n",
      " 6   code        171674 non-null  object\n",
      " 7   code2       171674 non-null  object\n",
      " 8   code_body   171674 non-null  object\n",
      " 9   userAccess  171674 non-null  object\n",
      "dtypes: object(10)\n",
      "memory usage: 20.0+ MB\n"
     ]
    }
   ],
   "source": [
    "dataRegEx.info()"
   ]
  },
  {
   "cell_type": "markdown",
   "id": "75a3b364-88b6-4e88-8c5c-0283eee82e23",
   "metadata": {},
   "source": [
    "## Nivell II\n",
    "### Exercici 2\n",
    "#### Neteja, preprocesa, estructura i transforma (dataframe) les dades del registre d'Accés a la web."
   ]
  },
  {
   "cell_type": "markdown",
   "id": "fdc89e82-b06d-4a60-b8da-4725ed72b57b",
   "metadata": {},
   "source": [
    "##### Modificamos el Formato con datatime y pasamos el mes a númérico para facilitar los cálculos entre diferente fechas"
   ]
  },
  {
   "cell_type": "code",
   "execution_count": 250,
   "id": "9eac3997-0af9-481e-81f5-59ddbbef8d8b",
   "metadata": {},
   "outputs": [
    {
     "data": {
      "text/html": [
       "<div>\n",
       "<style scoped>\n",
       "    .dataframe tbody tr th:only-of-type {\n",
       "        vertical-align: middle;\n",
       "    }\n",
       "\n",
       "    .dataframe tbody tr th {\n",
       "        vertical-align: top;\n",
       "    }\n",
       "\n",
       "    .dataframe thead th {\n",
       "        text-align: right;\n",
       "    }\n",
       "</style>\n",
       "<table border=\"1\" class=\"dataframe\">\n",
       "  <thead>\n",
       "    <tr style=\"text-align: right;\">\n",
       "      <th></th>\n",
       "      <th>hostTitle</th>\n",
       "      <th>ip</th>\n",
       "      <th>dateTime</th>\n",
       "      <th>request</th>\n",
       "      <th>requested</th>\n",
       "      <th>protocol</th>\n",
       "      <th>code</th>\n",
       "      <th>code2</th>\n",
       "      <th>code_body</th>\n",
       "      <th>userAccess</th>\n",
       "    </tr>\n",
       "  </thead>\n",
       "  <tbody>\n",
       "    <tr>\n",
       "      <th>0</th>\n",
       "      <td>localhost</td>\n",
       "      <td>127.0.0.1</td>\n",
       "      <td>2014-02-23 03:10:31+01:00</td>\n",
       "      <td>OPTIONS</td>\n",
       "      <td>*</td>\n",
       "      <td>HTTP/1.0</td>\n",
       "      <td>200</td>\n",
       "      <td></td>\n",
       "      <td>-</td>\n",
       "      <td>Apache (internal dummy connection)</td>\n",
       "    </tr>\n",
       "    <tr>\n",
       "      <th>1</th>\n",
       "      <td>localhost</td>\n",
       "      <td>127.0.0.1</td>\n",
       "      <td>2014-02-23 03:10:31+01:00</td>\n",
       "      <td>OPTIONS</td>\n",
       "      <td>*</td>\n",
       "      <td>HTTP/1.0</td>\n",
       "      <td>200</td>\n",
       "      <td></td>\n",
       "      <td>-</td>\n",
       "      <td>Apache (internal dummy connection)</td>\n",
       "    </tr>\n",
       "    <tr>\n",
       "      <th>2</th>\n",
       "      <td>localhost</td>\n",
       "      <td>127.0.0.1</td>\n",
       "      <td>2014-02-23 03:10:31+01:00</td>\n",
       "      <td>OPTIONS</td>\n",
       "      <td>*</td>\n",
       "      <td>HTTP/1.0</td>\n",
       "      <td>200</td>\n",
       "      <td></td>\n",
       "      <td>-</td>\n",
       "      <td>Apache (internal dummy connection)</td>\n",
       "    </tr>\n",
       "    <tr>\n",
       "      <th>3</th>\n",
       "      <td>localhost</td>\n",
       "      <td>127.0.0.1</td>\n",
       "      <td>2014-02-23 03:10:31+01:00</td>\n",
       "      <td>OPTIONS</td>\n",
       "      <td>*</td>\n",
       "      <td>HTTP/1.0</td>\n",
       "      <td>200</td>\n",
       "      <td></td>\n",
       "      <td>-</td>\n",
       "      <td>Apache (internal dummy connection)</td>\n",
       "    </tr>\n",
       "    <tr>\n",
       "      <th>4</th>\n",
       "      <td>localhost</td>\n",
       "      <td>127.0.0.1</td>\n",
       "      <td>2014-02-23 03:10:31+01:00</td>\n",
       "      <td>OPTIONS</td>\n",
       "      <td>*</td>\n",
       "      <td>HTTP/1.0</td>\n",
       "      <td>200</td>\n",
       "      <td></td>\n",
       "      <td>-</td>\n",
       "      <td>Apache (internal dummy connection)</td>\n",
       "    </tr>\n",
       "    <tr>\n",
       "      <th>...</th>\n",
       "      <td>...</td>\n",
       "      <td>...</td>\n",
       "      <td>...</td>\n",
       "      <td>...</td>\n",
       "      <td>...</td>\n",
       "      <td>...</td>\n",
       "      <td>...</td>\n",
       "      <td>...</td>\n",
       "      <td>...</td>\n",
       "      <td>...</td>\n",
       "    </tr>\n",
       "    <tr>\n",
       "      <th>261868</th>\n",
       "      <td>www.akumenius.com</td>\n",
       "      <td>5.255.253.53</td>\n",
       "      <td>2014-03-02 03:05:39+01:00</td>\n",
       "      <td>GET</td>\n",
       "      <td>/</td>\n",
       "      <td>HTTP/1.1</td>\n",
       "      <td>200</td>\n",
       "      <td>7528</td>\n",
       "      <td>-</td>\n",
       "      <td>Mozilla/5.0 (compatible; YandexBot/3.0; +http:...</td>\n",
       "    </tr>\n",
       "    <tr>\n",
       "      <th>261869</th>\n",
       "      <td>www.akumenius.com</td>\n",
       "      <td>74.86.158.107</td>\n",
       "      <td>2014-03-02 03:09:52+01:00</td>\n",
       "      <td>HEAD</td>\n",
       "      <td>/</td>\n",
       "      <td>HTTP/1.1</td>\n",
       "      <td>200</td>\n",
       "      <td></td>\n",
       "      <td>-</td>\n",
       "      <td>Mozilla/5.0+(compatible; UptimeRobot/2.0; http...</td>\n",
       "    </tr>\n",
       "    <tr>\n",
       "      <th>261870</th>\n",
       "      <td>localhost</td>\n",
       "      <td>127.0.0.1</td>\n",
       "      <td>2014-03-02 03:10:18+01:00</td>\n",
       "      <td>OPTIONS</td>\n",
       "      <td>*</td>\n",
       "      <td>HTTP/1.0</td>\n",
       "      <td>200</td>\n",
       "      <td></td>\n",
       "      <td>-</td>\n",
       "      <td>Apache (internal dummy connection)</td>\n",
       "    </tr>\n",
       "    <tr>\n",
       "      <th>261871</th>\n",
       "      <td>localhost</td>\n",
       "      <td>127.0.0.1</td>\n",
       "      <td>2014-03-02 03:10:18+01:00</td>\n",
       "      <td>OPTIONS</td>\n",
       "      <td>*</td>\n",
       "      <td>HTTP/1.0</td>\n",
       "      <td>200</td>\n",
       "      <td></td>\n",
       "      <td>-</td>\n",
       "      <td>Apache (internal dummy connection)</td>\n",
       "    </tr>\n",
       "    <tr>\n",
       "      <th>261872</th>\n",
       "      <td>localhost</td>\n",
       "      <td>127.0.0.1</td>\n",
       "      <td>2014-03-02 03:10:18+01:00</td>\n",
       "      <td>OPTIONS</td>\n",
       "      <td>*</td>\n",
       "      <td>HTTP/1.0</td>\n",
       "      <td>200</td>\n",
       "      <td></td>\n",
       "      <td>-</td>\n",
       "      <td>Apache (internal dummy connection)</td>\n",
       "    </tr>\n",
       "  </tbody>\n",
       "</table>\n",
       "<p>261873 rows × 10 columns</p>\n",
       "</div>"
      ],
      "text/plain": [
       "                hostTitle             ip                  dateTime  request  \\\n",
       "0               localhost      127.0.0.1 2014-02-23 03:10:31+01:00  OPTIONS   \n",
       "1               localhost      127.0.0.1 2014-02-23 03:10:31+01:00  OPTIONS   \n",
       "2               localhost      127.0.0.1 2014-02-23 03:10:31+01:00  OPTIONS   \n",
       "3               localhost      127.0.0.1 2014-02-23 03:10:31+01:00  OPTIONS   \n",
       "4               localhost      127.0.0.1 2014-02-23 03:10:31+01:00  OPTIONS   \n",
       "...                   ...            ...                       ...      ...   \n",
       "261868  www.akumenius.com   5.255.253.53 2014-03-02 03:05:39+01:00      GET   \n",
       "261869  www.akumenius.com  74.86.158.107 2014-03-02 03:09:52+01:00     HEAD   \n",
       "261870          localhost      127.0.0.1 2014-03-02 03:10:18+01:00  OPTIONS   \n",
       "261871          localhost      127.0.0.1 2014-03-02 03:10:18+01:00  OPTIONS   \n",
       "261872          localhost      127.0.0.1 2014-03-02 03:10:18+01:00  OPTIONS   \n",
       "\n",
       "       requested  protocol code code2 code_body  \\\n",
       "0              *  HTTP/1.0  200               -   \n",
       "1              *  HTTP/1.0  200               -   \n",
       "2              *  HTTP/1.0  200               -   \n",
       "3              *  HTTP/1.0  200               -   \n",
       "4              *  HTTP/1.0  200               -   \n",
       "...          ...       ...  ...   ...       ...   \n",
       "261868         /  HTTP/1.1  200  7528         -   \n",
       "261869         /  HTTP/1.1  200               -   \n",
       "261870         *  HTTP/1.0  200               -   \n",
       "261871         *  HTTP/1.0  200               -   \n",
       "261872         *  HTTP/1.0  200               -   \n",
       "\n",
       "                                               userAccess  \n",
       "0                      Apache (internal dummy connection)  \n",
       "1                      Apache (internal dummy connection)  \n",
       "2                      Apache (internal dummy connection)  \n",
       "3                      Apache (internal dummy connection)  \n",
       "4                      Apache (internal dummy connection)  \n",
       "...                                                   ...  \n",
       "261868  Mozilla/5.0 (compatible; YandexBot/3.0; +http:...  \n",
       "261869  Mozilla/5.0+(compatible; UptimeRobot/2.0; http...  \n",
       "261870                 Apache (internal dummy connection)  \n",
       "261871                 Apache (internal dummy connection)  \n",
       "261872                 Apache (internal dummy connection)  \n",
       "\n",
       "[261873 rows x 10 columns]"
      ]
     },
     "execution_count": 250,
     "metadata": {},
     "output_type": "execute_result"
    }
   ],
   "source": [
    "from datetime import datetime\n",
    "dataRegEx['dateTime'] = pd.to_datetime(dataRegEx['dateTime'], format=\"%d/%b/%Y:%H:%M:%S %z\")\n",
    "dataRegEx"
   ]
  },
  {
   "cell_type": "code",
   "execution_count": 251,
   "id": "3afe0f20-12ed-4d30-b482-58e4404441be",
   "metadata": {},
   "outputs": [
    {
     "name": "stdout",
     "output_type": "stream",
     "text": [
      "<class 'pandas.core.frame.DataFrame'>\n",
      "RangeIndex: 261873 entries, 0 to 261872\n",
      "Data columns (total 10 columns):\n",
      " #   Column      Non-Null Count   Dtype                               \n",
      "---  ------      --------------   -----                               \n",
      " 0   hostTitle   171674 non-null  object                              \n",
      " 1   ip          171674 non-null  object                              \n",
      " 2   dateTime    171674 non-null  datetime64[ns, pytz.FixedOffset(60)]\n",
      " 3   request     171674 non-null  object                              \n",
      " 4   requested   171674 non-null  object                              \n",
      " 5   protocol    171674 non-null  object                              \n",
      " 6   code        171674 non-null  object                              \n",
      " 7   code2       171674 non-null  object                              \n",
      " 8   code_body   171674 non-null  object                              \n",
      " 9   userAccess  171674 non-null  object                              \n",
      "dtypes: datetime64[ns, pytz.FixedOffset(60)](1), object(9)\n",
      "memory usage: 20.0+ MB\n"
     ]
    }
   ],
   "source": [
    "dataRegEx.info()"
   ]
  },
  {
   "cell_type": "code",
   "execution_count": 252,
   "id": "d7f43ac9-43e1-477c-ad5d-8d7b47df246e",
   "metadata": {},
   "outputs": [
    {
     "name": "stdout",
     "output_type": "stream",
     "text": [
      "Periodo temporal del Data Frame de:  2014-02-23 03:10:31+01:00 a  2014-03-02 03:10:18+01:00\n"
     ]
    }
   ],
   "source": [
    "print(\"Periodo temporal del Data Frame de: \", dataRegEx.dateTime.min(),\"a \", dataRegEx.dateTime.max())"
   ]
  },
  {
   "cell_type": "markdown",
   "id": "c6ce6a7c-d15e-4159-94cd-ed00843e739d",
   "metadata": {
    "tags": []
   },
   "source": [
    "### Exercici 3\n",
    "#### 3.1 Geolocalitza les IP's."
   ]
  },
  {
   "cell_type": "markdown",
   "id": "d4edbc76-5063-449a-8139-eb15dc52e71a",
   "metadata": {},
   "source": [
    "##### 3.1.1 Agrupamos las ip por número de visitas"
   ]
  },
  {
   "cell_type": "code",
   "execution_count": 253,
   "id": "0cabd5f5-e112-475c-9231-8192d0066483",
   "metadata": {},
   "outputs": [
    {
     "data": {
      "text/html": [
       "<div>\n",
       "<style scoped>\n",
       "    .dataframe tbody tr th:only-of-type {\n",
       "        vertical-align: middle;\n",
       "    }\n",
       "\n",
       "    .dataframe tbody tr th {\n",
       "        vertical-align: top;\n",
       "    }\n",
       "\n",
       "    .dataframe thead th {\n",
       "        text-align: right;\n",
       "    }\n",
       "</style>\n",
       "<table border=\"1\" class=\"dataframe\">\n",
       "  <thead>\n",
       "    <tr style=\"text-align: right;\">\n",
       "      <th></th>\n",
       "      <th>ip</th>\n",
       "      <th>NumVisits</th>\n",
       "    </tr>\n",
       "  </thead>\n",
       "  <tbody>\n",
       "    <tr>\n",
       "      <th>0</th>\n",
       "      <td>66.249.76.216</td>\n",
       "      <td>45500</td>\n",
       "    </tr>\n",
       "    <tr>\n",
       "      <th>1</th>\n",
       "      <td>127.0.0.1</td>\n",
       "      <td>13892</td>\n",
       "    </tr>\n",
       "    <tr>\n",
       "      <th>2</th>\n",
       "      <td>80.28.221.123</td>\n",
       "      <td>12259</td>\n",
       "    </tr>\n",
       "    <tr>\n",
       "      <th>3</th>\n",
       "      <td>217.125.71.222</td>\n",
       "      <td>4014</td>\n",
       "    </tr>\n",
       "    <tr>\n",
       "      <th>4</th>\n",
       "      <td>66.249.75.148</td>\n",
       "      <td>3426</td>\n",
       "    </tr>\n",
       "    <tr>\n",
       "      <th>...</th>\n",
       "      <td>...</td>\n",
       "      <td>...</td>\n",
       "    </tr>\n",
       "    <tr>\n",
       "      <th>2479</th>\n",
       "      <td>200.98.200.32</td>\n",
       "      <td>1</td>\n",
       "    </tr>\n",
       "    <tr>\n",
       "      <th>2480</th>\n",
       "      <td>77.7.126.108</td>\n",
       "      <td>1</td>\n",
       "    </tr>\n",
       "    <tr>\n",
       "      <th>2481</th>\n",
       "      <td>200.46.114.194</td>\n",
       "      <td>1</td>\n",
       "    </tr>\n",
       "    <tr>\n",
       "      <th>2482</th>\n",
       "      <td>87.221.5.240</td>\n",
       "      <td>1</td>\n",
       "    </tr>\n",
       "    <tr>\n",
       "      <th>2483</th>\n",
       "      <td>206.198.5.33</td>\n",
       "      <td>1</td>\n",
       "    </tr>\n",
       "  </tbody>\n",
       "</table>\n",
       "<p>2484 rows × 2 columns</p>\n",
       "</div>"
      ],
      "text/plain": [
       "                  ip  NumVisits\n",
       "0      66.249.76.216      45500\n",
       "1          127.0.0.1      13892\n",
       "2      80.28.221.123      12259\n",
       "3     217.125.71.222       4014\n",
       "4      66.249.75.148       3426\n",
       "...              ...        ...\n",
       "2479   200.98.200.32          1\n",
       "2480    77.7.126.108          1\n",
       "2481  200.46.114.194          1\n",
       "2482    87.221.5.240          1\n",
       "2483    206.198.5.33          1\n",
       "\n",
       "[2484 rows x 2 columns]"
      ]
     },
     "execution_count": 253,
     "metadata": {},
     "output_type": "execute_result"
    }
   ],
   "source": [
    "ipNumVisits = dataRegEx[\"ip\"].value_counts().rename_axis(\"ip\").reset_index(name = \"NumVisits\")\n",
    "ipNumVisits"
   ]
  },
  {
   "cell_type": "markdown",
   "id": "03029ddb-dc85-475a-9f12-e6298db81f39",
   "metadata": {},
   "source": [
    "##### Observaciones: \n",
    "###### a) Reducción del Data Framen eliminando los registros correspondientes al localhost que son 13.892, al no tener asignada geolocalización y evitar errores en el siguente paso.\n",
    "###### b) Adicionalmene hemos usado una APi que tiene restringido el número de llamadas para conocer la localización en funcion de la latitud y longitud informada de una ip. Hemos aplicado un filtro para consultar sólo las ip con visitas supreriores a 200."
   ]
  },
  {
   "cell_type": "code",
   "execution_count": 254,
   "id": "eab98eb7-766a-4e32-ac6f-23b7b2ed9ea6",
   "metadata": {},
   "outputs": [
    {
     "data": {
      "text/html": [
       "<div>\n",
       "<style scoped>\n",
       "    .dataframe tbody tr th:only-of-type {\n",
       "        vertical-align: middle;\n",
       "    }\n",
       "\n",
       "    .dataframe tbody tr th {\n",
       "        vertical-align: top;\n",
       "    }\n",
       "\n",
       "    .dataframe thead th {\n",
       "        text-align: right;\n",
       "    }\n",
       "</style>\n",
       "<table border=\"1\" class=\"dataframe\">\n",
       "  <thead>\n",
       "    <tr style=\"text-align: right;\">\n",
       "      <th></th>\n",
       "      <th>ip</th>\n",
       "      <th>NumVisits</th>\n",
       "    </tr>\n",
       "  </thead>\n",
       "  <tbody>\n",
       "    <tr>\n",
       "      <th>0</th>\n",
       "      <td>66.249.76.216</td>\n",
       "      <td>45500</td>\n",
       "    </tr>\n",
       "    <tr>\n",
       "      <th>2</th>\n",
       "      <td>80.28.221.123</td>\n",
       "      <td>12259</td>\n",
       "    </tr>\n",
       "    <tr>\n",
       "      <th>3</th>\n",
       "      <td>217.125.71.222</td>\n",
       "      <td>4014</td>\n",
       "    </tr>\n",
       "    <tr>\n",
       "      <th>4</th>\n",
       "      <td>66.249.75.148</td>\n",
       "      <td>3426</td>\n",
       "    </tr>\n",
       "    <tr>\n",
       "      <th>5</th>\n",
       "      <td>62.117.197.230</td>\n",
       "      <td>2460</td>\n",
       "    </tr>\n",
       "    <tr>\n",
       "      <th>...</th>\n",
       "      <td>...</td>\n",
       "      <td>...</td>\n",
       "    </tr>\n",
       "    <tr>\n",
       "      <th>69</th>\n",
       "      <td>77.228.79.234</td>\n",
       "      <td>215</td>\n",
       "    </tr>\n",
       "    <tr>\n",
       "      <th>70</th>\n",
       "      <td>84.76.76.26</td>\n",
       "      <td>214</td>\n",
       "    </tr>\n",
       "    <tr>\n",
       "      <th>71</th>\n",
       "      <td>62.117.179.122</td>\n",
       "      <td>213</td>\n",
       "    </tr>\n",
       "    <tr>\n",
       "      <th>72</th>\n",
       "      <td>217.125.108.49</td>\n",
       "      <td>205</td>\n",
       "    </tr>\n",
       "    <tr>\n",
       "      <th>73</th>\n",
       "      <td>188.119.219.26</td>\n",
       "      <td>204</td>\n",
       "    </tr>\n",
       "  </tbody>\n",
       "</table>\n",
       "<p>73 rows × 2 columns</p>\n",
       "</div>"
      ],
      "text/plain": [
       "                ip  NumVisits\n",
       "0    66.249.76.216      45500\n",
       "2    80.28.221.123      12259\n",
       "3   217.125.71.222       4014\n",
       "4    66.249.75.148       3426\n",
       "5   62.117.197.230       2460\n",
       "..             ...        ...\n",
       "69   77.228.79.234        215\n",
       "70     84.76.76.26        214\n",
       "71  62.117.179.122        213\n",
       "72  217.125.108.49        205\n",
       "73  188.119.219.26        204\n",
       "\n",
       "[73 rows x 2 columns]"
      ]
     },
     "execution_count": 254,
     "metadata": {},
     "output_type": "execute_result"
    }
   ],
   "source": [
    "ipNumVisits = ipNumVisits[(ipNumVisits[\"ip\"] != \"127.0.0.1\") & (ipNumVisits[\"NumVisits\"] > 200)]\n",
    "ipNumVisits"
   ]
  },
  {
   "cell_type": "code",
   "execution_count": 255,
   "id": "7507d4ca-6942-4f8b-83a4-2c73a2933b9b",
   "metadata": {},
   "outputs": [
    {
     "name": "stdout",
     "output_type": "stream",
     "text": [
      "<class 'pandas.core.frame.DataFrame'>\n",
      "Int64Index: 73 entries, 0 to 73\n",
      "Data columns (total 2 columns):\n",
      " #   Column     Non-Null Count  Dtype \n",
      "---  ------     --------------  ----- \n",
      " 0   ip         73 non-null     object\n",
      " 1   NumVisits  73 non-null     int64 \n",
      "dtypes: int64(1), object(1)\n",
      "memory usage: 1.7+ KB\n"
     ]
    }
   ],
   "source": [
    "ipNumVisits.info()"
   ]
  },
  {
   "cell_type": "code",
   "execution_count": 256,
   "id": "efa2746a-f242-4666-8041-f6f1334fb4e7",
   "metadata": {},
   "outputs": [
    {
     "name": "stdout",
     "output_type": "stream",
     "text": [
      "Número de visitas Totales 96905\n"
     ]
    }
   ],
   "source": [
    "print(\"Número de visitas Totales\", ipNumVisits.NumVisits.sum())"
   ]
  },
  {
   "cell_type": "markdown",
   "id": "5b04ddc2-460a-451a-b438-ff608c26c53c",
   "metadata": {},
   "source": [
    "###### Vemos que las ip con visitas superiores a 200 corresponden a 73 registros"
   ]
  },
  {
   "cell_type": "code",
   "execution_count": 257,
   "id": "158639e7-d88b-4e40-84da-3409a0505832",
   "metadata": {},
   "outputs": [
    {
     "data": {
      "text/html": [
       "<div>\n",
       "<style scoped>\n",
       "    .dataframe tbody tr th:only-of-type {\n",
       "        vertical-align: middle;\n",
       "    }\n",
       "\n",
       "    .dataframe tbody tr th {\n",
       "        vertical-align: top;\n",
       "    }\n",
       "\n",
       "    .dataframe thead th {\n",
       "        text-align: right;\n",
       "    }\n",
       "</style>\n",
       "<table border=\"1\" class=\"dataframe\">\n",
       "  <thead>\n",
       "    <tr style=\"text-align: right;\">\n",
       "      <th></th>\n",
       "      <th>ip</th>\n",
       "    </tr>\n",
       "  </thead>\n",
       "  <tbody>\n",
       "    <tr>\n",
       "      <th>0</th>\n",
       "      <td>66.249.76.216</td>\n",
       "    </tr>\n",
       "    <tr>\n",
       "      <th>1</th>\n",
       "      <td>80.28.221.123</td>\n",
       "    </tr>\n",
       "    <tr>\n",
       "      <th>2</th>\n",
       "      <td>217.125.71.222</td>\n",
       "    </tr>\n",
       "    <tr>\n",
       "      <th>3</th>\n",
       "      <td>66.249.75.148</td>\n",
       "    </tr>\n",
       "    <tr>\n",
       "      <th>4</th>\n",
       "      <td>62.117.197.230</td>\n",
       "    </tr>\n",
       "    <tr>\n",
       "      <th>5</th>\n",
       "      <td>162.243.192.191</td>\n",
       "    </tr>\n",
       "    <tr>\n",
       "      <th>6</th>\n",
       "      <td>176.31.255.177</td>\n",
       "    </tr>\n",
       "    <tr>\n",
       "      <th>7</th>\n",
       "      <td>198.143.133.154</td>\n",
       "    </tr>\n",
       "    <tr>\n",
       "      <th>8</th>\n",
       "      <td>81.39.110.171</td>\n",
       "    </tr>\n",
       "    <tr>\n",
       "      <th>9</th>\n",
       "      <td>80.58.250.94</td>\n",
       "    </tr>\n",
       "  </tbody>\n",
       "</table>\n",
       "</div>"
      ],
      "text/plain": [
       "                ip\n",
       "0    66.249.76.216\n",
       "1    80.28.221.123\n",
       "2   217.125.71.222\n",
       "3    66.249.75.148\n",
       "4   62.117.197.230\n",
       "5  162.243.192.191\n",
       "6   176.31.255.177\n",
       "7  198.143.133.154\n",
       "8    81.39.110.171\n",
       "9     80.58.250.94"
      ]
     },
     "execution_count": 257,
     "metadata": {},
     "output_type": "execute_result"
    }
   ],
   "source": [
    "dataIps = pd.DataFrame({\"ip\": ipNumVisits[\"ip\"].unique()})\n",
    "dataIps.head(10)"
   ]
  },
  {
   "cell_type": "code",
   "execution_count": 258,
   "id": "4e46cc51-40ed-408b-b85f-2d423416e76d",
   "metadata": {},
   "outputs": [
    {
     "name": "stdout",
     "output_type": "stream",
     "text": [
      "<class 'pandas.core.frame.DataFrame'>\n",
      "RangeIndex: 73 entries, 0 to 72\n",
      "Data columns (total 1 columns):\n",
      " #   Column  Non-Null Count  Dtype \n",
      "---  ------  --------------  ----- \n",
      " 0   ip      73 non-null     object\n",
      "dtypes: object(1)\n",
      "memory usage: 712.0+ bytes\n"
     ]
    }
   ],
   "source": [
    "dataIps.info()"
   ]
  },
  {
   "cell_type": "markdown",
   "id": "78d9ff1b-c08d-4d65-b22f-0c5e223e6f50",
   "metadata": {},
   "source": [
    "###### Hemos verificado que esos registros se corresponden con ip´s únicas"
   ]
  },
  {
   "cell_type": "markdown",
   "id": "a23725cc-cb7e-4c95-92d6-a39fd2030591",
   "metadata": {},
   "source": [
    "##### 3.1.2 Seleccionamos la localización georáfica de las ip, a partir de las latitud y la longitud, mendiante una API de geolocalización que nos devuelve el país y la region."
   ]
  },
  {
   "cell_type": "code",
   "execution_count": 259,
   "id": "33b668a6-0833-4f22-9b0a-7b9ea0ae763c",
   "metadata": {},
   "outputs": [
    {
     "name": "stdout",
     "output_type": "stream",
     "text": [
      "Registro con ip erróneo:  0\n"
     ]
    }
   ],
   "source": [
    "countError=0\n",
    "# Definimos los parametros de respuesta que queremos obtener\n",
    "parametros = 'status,country,countryCode,region,regionName,city,zip,lat,lon,timezone,isp,org,as,query'\n",
    "data = {\"fields\":parametros}\n",
    "response_text_list = []\n",
    "api_url = \"http://ip-api.com/json/\"\n",
    "for ip in dataIps[\"ip\"]:\n",
    "    try:\n",
    "        if __name__ == '__main__':\n",
    "            #print(\"ip: \",ip)\n",
    "            # Llamamos a la función ip_scraping y mostramos los resultados\n",
    "            res = requests.get(api_url+ip, data=data)\n",
    "            # Obtenemos y procesamos la respuesta JSON\n",
    "            api_json_res = json.loads(res.content)  \n",
    "            response_text_list.append(api_json_res)    \n",
    "            #print(\"algo :\", api_json_res)\n",
    "    except TypeError:\n",
    "        countError =countError+1\n",
    "        pass\n",
    "\n",
    "print(\"Registro con ip erróneo: \",countError)\n"
   ]
  },
  {
   "cell_type": "code",
   "execution_count": 260,
   "id": "1965f510-6111-482d-bc23-4fd74975af00",
   "metadata": {},
   "outputs": [],
   "source": [
    "geo_ip = pd.DataFrame.from_dict(response_text_list)"
   ]
  },
  {
   "cell_type": "code",
   "execution_count": 261,
   "id": "b13f2b59-897a-4d31-a334-a683b2327cb5",
   "metadata": {},
   "outputs": [
    {
     "data": {
      "text/html": [
       "<div>\n",
       "<style scoped>\n",
       "    .dataframe tbody tr th:only-of-type {\n",
       "        vertical-align: middle;\n",
       "    }\n",
       "\n",
       "    .dataframe tbody tr th {\n",
       "        vertical-align: top;\n",
       "    }\n",
       "\n",
       "    .dataframe thead th {\n",
       "        text-align: right;\n",
       "    }\n",
       "</style>\n",
       "<table border=\"1\" class=\"dataframe\">\n",
       "  <thead>\n",
       "    <tr style=\"text-align: right;\">\n",
       "      <th></th>\n",
       "      <th>status</th>\n",
       "      <th>country</th>\n",
       "      <th>countryCode</th>\n",
       "      <th>region</th>\n",
       "      <th>regionName</th>\n",
       "      <th>city</th>\n",
       "      <th>zip</th>\n",
       "      <th>lat</th>\n",
       "      <th>lon</th>\n",
       "      <th>timezone</th>\n",
       "      <th>isp</th>\n",
       "      <th>org</th>\n",
       "      <th>as</th>\n",
       "      <th>query</th>\n",
       "    </tr>\n",
       "  </thead>\n",
       "  <tbody>\n",
       "    <tr>\n",
       "      <th>0</th>\n",
       "      <td>success</td>\n",
       "      <td>United States</td>\n",
       "      <td>US</td>\n",
       "      <td>CA</td>\n",
       "      <td>California</td>\n",
       "      <td>Mountain View</td>\n",
       "      <td>94043</td>\n",
       "      <td>37.4220</td>\n",
       "      <td>-122.08400</td>\n",
       "      <td>America/Los_Angeles</td>\n",
       "      <td>Google LLC</td>\n",
       "      <td>Google LLC</td>\n",
       "      <td>AS15169 Google LLC</td>\n",
       "      <td>66.249.76.216</td>\n",
       "    </tr>\n",
       "    <tr>\n",
       "      <th>1</th>\n",
       "      <td>success</td>\n",
       "      <td>Spain</td>\n",
       "      <td>ES</td>\n",
       "      <td>MD</td>\n",
       "      <td>Madrid</td>\n",
       "      <td>Madrid</td>\n",
       "      <td>28760</td>\n",
       "      <td>40.5167</td>\n",
       "      <td>-3.66479</td>\n",
       "      <td>Europe/Madrid</td>\n",
       "      <td>TDENET (Red de servicios IP)</td>\n",
       "      <td></td>\n",
       "      <td>AS3352 TELEFONICA DE ESPANA</td>\n",
       "      <td>80.28.221.123</td>\n",
       "    </tr>\n",
       "    <tr>\n",
       "      <th>2</th>\n",
       "      <td>success</td>\n",
       "      <td>Spain</td>\n",
       "      <td>ES</td>\n",
       "      <td>AN</td>\n",
       "      <td>Andalusia</td>\n",
       "      <td>Tocina</td>\n",
       "      <td>41340</td>\n",
       "      <td>37.6025</td>\n",
       "      <td>-5.73070</td>\n",
       "      <td>Europe/Madrid</td>\n",
       "      <td>Telefonica de Espana SAU</td>\n",
       "      <td>TDENET (Red de servicios IP)</td>\n",
       "      <td>AS3352 TELEFONICA DE ESPANA</td>\n",
       "      <td>217.125.71.222</td>\n",
       "    </tr>\n",
       "    <tr>\n",
       "      <th>3</th>\n",
       "      <td>success</td>\n",
       "      <td>United States</td>\n",
       "      <td>US</td>\n",
       "      <td>CO</td>\n",
       "      <td>Colorado</td>\n",
       "      <td>Aurora</td>\n",
       "      <td>80014</td>\n",
       "      <td>39.6663</td>\n",
       "      <td>-104.83430</td>\n",
       "      <td>America/Denver</td>\n",
       "      <td>Google LLC</td>\n",
       "      <td>Google LLC</td>\n",
       "      <td>AS15169 Google LLC</td>\n",
       "      <td>66.249.75.148</td>\n",
       "    </tr>\n",
       "    <tr>\n",
       "      <th>4</th>\n",
       "      <td>success</td>\n",
       "      <td>Spain</td>\n",
       "      <td>ES</td>\n",
       "      <td>MD</td>\n",
       "      <td>Madrid</td>\n",
       "      <td>Madrid</td>\n",
       "      <td>28012</td>\n",
       "      <td>40.4163</td>\n",
       "      <td>-3.69340</td>\n",
       "      <td>Europe/Madrid</td>\n",
       "      <td>Ono</td>\n",
       "      <td>ONO_HFC</td>\n",
       "      <td>AS12430 VODAFONE ESPANA S.A.U.</td>\n",
       "      <td>62.117.197.230</td>\n",
       "    </tr>\n",
       "  </tbody>\n",
       "</table>\n",
       "</div>"
      ],
      "text/plain": [
       "    status        country countryCode region  regionName           city  \\\n",
       "0  success  United States          US     CA  California  Mountain View   \n",
       "1  success          Spain          ES     MD      Madrid         Madrid   \n",
       "2  success          Spain          ES     AN   Andalusia         Tocina   \n",
       "3  success  United States          US     CO    Colorado         Aurora   \n",
       "4  success          Spain          ES     MD      Madrid         Madrid   \n",
       "\n",
       "     zip      lat        lon             timezone  \\\n",
       "0  94043  37.4220 -122.08400  America/Los_Angeles   \n",
       "1  28760  40.5167   -3.66479        Europe/Madrid   \n",
       "2  41340  37.6025   -5.73070        Europe/Madrid   \n",
       "3  80014  39.6663 -104.83430       America/Denver   \n",
       "4  28012  40.4163   -3.69340        Europe/Madrid   \n",
       "\n",
       "                            isp                           org  \\\n",
       "0                    Google LLC                    Google LLC   \n",
       "1  TDENET (Red de servicios IP)                                 \n",
       "2      Telefonica de Espana SAU  TDENET (Red de servicios IP)   \n",
       "3                    Google LLC                    Google LLC   \n",
       "4                           Ono                       ONO_HFC   \n",
       "\n",
       "                               as           query  \n",
       "0              AS15169 Google LLC   66.249.76.216  \n",
       "1     AS3352 TELEFONICA DE ESPANA   80.28.221.123  \n",
       "2     AS3352 TELEFONICA DE ESPANA  217.125.71.222  \n",
       "3              AS15169 Google LLC   66.249.75.148  \n",
       "4  AS12430 VODAFONE ESPANA S.A.U.  62.117.197.230  "
      ]
     },
     "execution_count": 261,
     "metadata": {},
     "output_type": "execute_result"
    }
   ],
   "source": [
    "geo_ip.head(5)"
   ]
  },
  {
   "cell_type": "code",
   "execution_count": 262,
   "id": "ec2f51f6-d13f-4448-a05c-6a9e839d37f7",
   "metadata": {},
   "outputs": [
    {
     "data": {
      "text/html": [
       "<div>\n",
       "<style scoped>\n",
       "    .dataframe tbody tr th:only-of-type {\n",
       "        vertical-align: middle;\n",
       "    }\n",
       "\n",
       "    .dataframe tbody tr th {\n",
       "        vertical-align: top;\n",
       "    }\n",
       "\n",
       "    .dataframe thead th {\n",
       "        text-align: right;\n",
       "    }\n",
       "</style>\n",
       "<table border=\"1\" class=\"dataframe\">\n",
       "  <thead>\n",
       "    <tr style=\"text-align: right;\">\n",
       "      <th></th>\n",
       "      <th>status</th>\n",
       "      <th>country</th>\n",
       "      <th>countryCode</th>\n",
       "      <th>region</th>\n",
       "      <th>regionName</th>\n",
       "      <th>city</th>\n",
       "      <th>zip</th>\n",
       "      <th>lat</th>\n",
       "      <th>lon</th>\n",
       "      <th>timezone</th>\n",
       "      <th>isp</th>\n",
       "      <th>org</th>\n",
       "      <th>as</th>\n",
       "      <th>ip</th>\n",
       "    </tr>\n",
       "  </thead>\n",
       "  <tbody>\n",
       "    <tr>\n",
       "      <th>0</th>\n",
       "      <td>success</td>\n",
       "      <td>United States</td>\n",
       "      <td>US</td>\n",
       "      <td>CA</td>\n",
       "      <td>California</td>\n",
       "      <td>Mountain View</td>\n",
       "      <td>94043</td>\n",
       "      <td>37.4220</td>\n",
       "      <td>-122.08400</td>\n",
       "      <td>America/Los_Angeles</td>\n",
       "      <td>Google LLC</td>\n",
       "      <td>Google LLC</td>\n",
       "      <td>AS15169 Google LLC</td>\n",
       "      <td>66.249.76.216</td>\n",
       "    </tr>\n",
       "    <tr>\n",
       "      <th>1</th>\n",
       "      <td>success</td>\n",
       "      <td>Spain</td>\n",
       "      <td>ES</td>\n",
       "      <td>MD</td>\n",
       "      <td>Madrid</td>\n",
       "      <td>Madrid</td>\n",
       "      <td>28760</td>\n",
       "      <td>40.5167</td>\n",
       "      <td>-3.66479</td>\n",
       "      <td>Europe/Madrid</td>\n",
       "      <td>TDENET (Red de servicios IP)</td>\n",
       "      <td></td>\n",
       "      <td>AS3352 TELEFONICA DE ESPANA</td>\n",
       "      <td>80.28.221.123</td>\n",
       "    </tr>\n",
       "    <tr>\n",
       "      <th>2</th>\n",
       "      <td>success</td>\n",
       "      <td>Spain</td>\n",
       "      <td>ES</td>\n",
       "      <td>AN</td>\n",
       "      <td>Andalusia</td>\n",
       "      <td>Tocina</td>\n",
       "      <td>41340</td>\n",
       "      <td>37.6025</td>\n",
       "      <td>-5.73070</td>\n",
       "      <td>Europe/Madrid</td>\n",
       "      <td>Telefonica de Espana SAU</td>\n",
       "      <td>TDENET (Red de servicios IP)</td>\n",
       "      <td>AS3352 TELEFONICA DE ESPANA</td>\n",
       "      <td>217.125.71.222</td>\n",
       "    </tr>\n",
       "    <tr>\n",
       "      <th>3</th>\n",
       "      <td>success</td>\n",
       "      <td>United States</td>\n",
       "      <td>US</td>\n",
       "      <td>CO</td>\n",
       "      <td>Colorado</td>\n",
       "      <td>Aurora</td>\n",
       "      <td>80014</td>\n",
       "      <td>39.6663</td>\n",
       "      <td>-104.83430</td>\n",
       "      <td>America/Denver</td>\n",
       "      <td>Google LLC</td>\n",
       "      <td>Google LLC</td>\n",
       "      <td>AS15169 Google LLC</td>\n",
       "      <td>66.249.75.148</td>\n",
       "    </tr>\n",
       "    <tr>\n",
       "      <th>4</th>\n",
       "      <td>success</td>\n",
       "      <td>Spain</td>\n",
       "      <td>ES</td>\n",
       "      <td>MD</td>\n",
       "      <td>Madrid</td>\n",
       "      <td>Madrid</td>\n",
       "      <td>28012</td>\n",
       "      <td>40.4163</td>\n",
       "      <td>-3.69340</td>\n",
       "      <td>Europe/Madrid</td>\n",
       "      <td>Ono</td>\n",
       "      <td>ONO_HFC</td>\n",
       "      <td>AS12430 VODAFONE ESPANA S.A.U.</td>\n",
       "      <td>62.117.197.230</td>\n",
       "    </tr>\n",
       "  </tbody>\n",
       "</table>\n",
       "</div>"
      ],
      "text/plain": [
       "    status        country countryCode region  regionName           city  \\\n",
       "0  success  United States          US     CA  California  Mountain View   \n",
       "1  success          Spain          ES     MD      Madrid         Madrid   \n",
       "2  success          Spain          ES     AN   Andalusia         Tocina   \n",
       "3  success  United States          US     CO    Colorado         Aurora   \n",
       "4  success          Spain          ES     MD      Madrid         Madrid   \n",
       "\n",
       "     zip      lat        lon             timezone  \\\n",
       "0  94043  37.4220 -122.08400  America/Los_Angeles   \n",
       "1  28760  40.5167   -3.66479        Europe/Madrid   \n",
       "2  41340  37.6025   -5.73070        Europe/Madrid   \n",
       "3  80014  39.6663 -104.83430       America/Denver   \n",
       "4  28012  40.4163   -3.69340        Europe/Madrid   \n",
       "\n",
       "                            isp                           org  \\\n",
       "0                    Google LLC                    Google LLC   \n",
       "1  TDENET (Red de servicios IP)                                 \n",
       "2      Telefonica de Espana SAU  TDENET (Red de servicios IP)   \n",
       "3                    Google LLC                    Google LLC   \n",
       "4                           Ono                       ONO_HFC   \n",
       "\n",
       "                               as              ip  \n",
       "0              AS15169 Google LLC   66.249.76.216  \n",
       "1     AS3352 TELEFONICA DE ESPANA   80.28.221.123  \n",
       "2     AS3352 TELEFONICA DE ESPANA  217.125.71.222  \n",
       "3              AS15169 Google LLC   66.249.75.148  \n",
       "4  AS12430 VODAFONE ESPANA S.A.U.  62.117.197.230  "
      ]
     },
     "execution_count": 262,
     "metadata": {},
     "output_type": "execute_result"
    }
   ],
   "source": [
    "geo_ip.rename(columns={'query': 'ip'}, inplace=True)\n",
    "geo_ip.head(5)"
   ]
  },
  {
   "cell_type": "markdown",
   "id": "d6a0381b-523d-4184-ad77-5b20c0b248a1",
   "metadata": {},
   "source": [
    "##### Simplificamos el Data Frame para obtener las coordenadas que usaremos como base del mapa de geolocalizaciones"
   ]
  },
  {
   "cell_type": "code",
   "execution_count": 263,
   "id": "63cd8049-5a31-4ad7-b2c7-18c798bdda6b",
   "metadata": {},
   "outputs": [
    {
     "data": {
      "text/html": [
       "<div>\n",
       "<style scoped>\n",
       "    .dataframe tbody tr th:only-of-type {\n",
       "        vertical-align: middle;\n",
       "    }\n",
       "\n",
       "    .dataframe tbody tr th {\n",
       "        vertical-align: top;\n",
       "    }\n",
       "\n",
       "    .dataframe thead th {\n",
       "        text-align: right;\n",
       "    }\n",
       "</style>\n",
       "<table border=\"1\" class=\"dataframe\">\n",
       "  <thead>\n",
       "    <tr style=\"text-align: right;\">\n",
       "      <th></th>\n",
       "      <th>ip</th>\n",
       "      <th>country</th>\n",
       "      <th>regionName</th>\n",
       "      <th>lat</th>\n",
       "      <th>lon</th>\n",
       "    </tr>\n",
       "  </thead>\n",
       "  <tbody>\n",
       "    <tr>\n",
       "      <th>0</th>\n",
       "      <td>66.249.76.216</td>\n",
       "      <td>United States</td>\n",
       "      <td>California</td>\n",
       "      <td>37.4220</td>\n",
       "      <td>-122.08400</td>\n",
       "    </tr>\n",
       "    <tr>\n",
       "      <th>1</th>\n",
       "      <td>80.28.221.123</td>\n",
       "      <td>Spain</td>\n",
       "      <td>Madrid</td>\n",
       "      <td>40.5167</td>\n",
       "      <td>-3.66479</td>\n",
       "    </tr>\n",
       "    <tr>\n",
       "      <th>2</th>\n",
       "      <td>217.125.71.222</td>\n",
       "      <td>Spain</td>\n",
       "      <td>Andalusia</td>\n",
       "      <td>37.6025</td>\n",
       "      <td>-5.73070</td>\n",
       "    </tr>\n",
       "    <tr>\n",
       "      <th>3</th>\n",
       "      <td>66.249.75.148</td>\n",
       "      <td>United States</td>\n",
       "      <td>Colorado</td>\n",
       "      <td>39.6663</td>\n",
       "      <td>-104.83430</td>\n",
       "    </tr>\n",
       "    <tr>\n",
       "      <th>4</th>\n",
       "      <td>62.117.197.230</td>\n",
       "      <td>Spain</td>\n",
       "      <td>Madrid</td>\n",
       "      <td>40.4163</td>\n",
       "      <td>-3.69340</td>\n",
       "    </tr>\n",
       "  </tbody>\n",
       "</table>\n",
       "</div>"
      ],
      "text/plain": [
       "               ip        country  regionName      lat        lon\n",
       "0   66.249.76.216  United States  California  37.4220 -122.08400\n",
       "1   80.28.221.123          Spain      Madrid  40.5167   -3.66479\n",
       "2  217.125.71.222          Spain   Andalusia  37.6025   -5.73070\n",
       "3   66.249.75.148  United States    Colorado  39.6663 -104.83430\n",
       "4  62.117.197.230          Spain      Madrid  40.4163   -3.69340"
      ]
     },
     "execution_count": 263,
     "metadata": {},
     "output_type": "execute_result"
    }
   ],
   "source": [
    "df_grafico =pd.DataFrame(geo_ip, columns=[\"ip\", \"country\",\"regionName\", \"lat\",\"lon\"]).copy()\n",
    "df_grafico.head(5)"
   ]
  },
  {
   "cell_type": "code",
   "execution_count": 264,
   "id": "fd5c098d-d91a-450f-b5b0-2e16ab97242a",
   "metadata": {},
   "outputs": [],
   "source": [
    "import geopandas as gpd\n",
    "from shapely.geometry import Point, Polygon"
   ]
  },
  {
   "cell_type": "code",
   "execution_count": 265,
   "id": "ac469b4f-33aa-412a-ab99-3b0b8b369bd4",
   "metadata": {},
   "outputs": [],
   "source": [
    "# sistema de referència de coordenades\n",
    "#crs = 'epsg:4269'\n",
    "crs = \"epsg:4326\",\"epsg:4269\""
   ]
  },
  {
   "cell_type": "code",
   "execution_count": 266,
   "id": "aac88a7a-eeeb-4a04-99ae-268c90cc16a9",
   "metadata": {},
   "outputs": [],
   "source": [
    "geometry = [Point(xy) for xy in zip(df_grafico[\"lon\"], df_grafico[\"lat\"])]"
   ]
  },
  {
   "cell_type": "code",
   "execution_count": 267,
   "id": "a53a5e21-f451-41dd-a464-a7558388e1e3",
   "metadata": {},
   "outputs": [
    {
     "data": {
      "text/html": [
       "<div>\n",
       "<style scoped>\n",
       "    .dataframe tbody tr th:only-of-type {\n",
       "        vertical-align: middle;\n",
       "    }\n",
       "\n",
       "    .dataframe tbody tr th {\n",
       "        vertical-align: top;\n",
       "    }\n",
       "\n",
       "    .dataframe thead th {\n",
       "        text-align: right;\n",
       "    }\n",
       "</style>\n",
       "<table border=\"1\" class=\"dataframe\">\n",
       "  <thead>\n",
       "    <tr style=\"text-align: right;\">\n",
       "      <th></th>\n",
       "      <th>ip</th>\n",
       "      <th>country</th>\n",
       "      <th>regionName</th>\n",
       "      <th>lat</th>\n",
       "      <th>lon</th>\n",
       "      <th>geometry</th>\n",
       "    </tr>\n",
       "  </thead>\n",
       "  <tbody>\n",
       "    <tr>\n",
       "      <th>0</th>\n",
       "      <td>66.249.76.216</td>\n",
       "      <td>United States</td>\n",
       "      <td>California</td>\n",
       "      <td>37.4220</td>\n",
       "      <td>-122.08400</td>\n",
       "      <td>POINT (-122.08400 37.42200)</td>\n",
       "    </tr>\n",
       "    <tr>\n",
       "      <th>1</th>\n",
       "      <td>80.28.221.123</td>\n",
       "      <td>Spain</td>\n",
       "      <td>Madrid</td>\n",
       "      <td>40.5167</td>\n",
       "      <td>-3.66479</td>\n",
       "      <td>POINT (-3.66479 40.51670)</td>\n",
       "    </tr>\n",
       "    <tr>\n",
       "      <th>2</th>\n",
       "      <td>217.125.71.222</td>\n",
       "      <td>Spain</td>\n",
       "      <td>Andalusia</td>\n",
       "      <td>37.6025</td>\n",
       "      <td>-5.73070</td>\n",
       "      <td>POINT (-5.73070 37.60250)</td>\n",
       "    </tr>\n",
       "    <tr>\n",
       "      <th>3</th>\n",
       "      <td>66.249.75.148</td>\n",
       "      <td>United States</td>\n",
       "      <td>Colorado</td>\n",
       "      <td>39.6663</td>\n",
       "      <td>-104.83430</td>\n",
       "      <td>POINT (-104.83430 39.66630)</td>\n",
       "    </tr>\n",
       "    <tr>\n",
       "      <th>4</th>\n",
       "      <td>62.117.197.230</td>\n",
       "      <td>Spain</td>\n",
       "      <td>Madrid</td>\n",
       "      <td>40.4163</td>\n",
       "      <td>-3.69340</td>\n",
       "      <td>POINT (-3.69340 40.41630)</td>\n",
       "    </tr>\n",
       "  </tbody>\n",
       "</table>\n",
       "</div>"
      ],
      "text/plain": [
       "               ip        country  regionName      lat        lon  \\\n",
       "0   66.249.76.216  United States  California  37.4220 -122.08400   \n",
       "1   80.28.221.123          Spain      Madrid  40.5167   -3.66479   \n",
       "2  217.125.71.222          Spain   Andalusia  37.6025   -5.73070   \n",
       "3   66.249.75.148  United States    Colorado  39.6663 -104.83430   \n",
       "4  62.117.197.230          Spain      Madrid  40.4163   -3.69340   \n",
       "\n",
       "                      geometry  \n",
       "0  POINT (-122.08400 37.42200)  \n",
       "1    POINT (-3.66479 40.51670)  \n",
       "2    POINT (-5.73070 37.60250)  \n",
       "3  POINT (-104.83430 39.66630)  \n",
       "4    POINT (-3.69340 40.41630)  "
      ]
     },
     "execution_count": 267,
     "metadata": {},
     "output_type": "execute_result"
    }
   ],
   "source": [
    "df_geo = gpd.GeoDataFrame(df_grafico, geometry=geometry)\n",
    "df_geo.head(5)"
   ]
  },
  {
   "cell_type": "code",
   "execution_count": 268,
   "id": "2afb8e25-a17d-497b-953e-c98dfebc5689",
   "metadata": {},
   "outputs": [
    {
     "data": {
      "text/html": [
       "<div>\n",
       "<style scoped>\n",
       "    .dataframe tbody tr th:only-of-type {\n",
       "        vertical-align: middle;\n",
       "    }\n",
       "\n",
       "    .dataframe tbody tr th {\n",
       "        vertical-align: top;\n",
       "    }\n",
       "\n",
       "    .dataframe thead th {\n",
       "        text-align: right;\n",
       "    }\n",
       "</style>\n",
       "<table border=\"1\" class=\"dataframe\">\n",
       "  <thead>\n",
       "    <tr style=\"text-align: right;\">\n",
       "      <th></th>\n",
       "      <th>ip</th>\n",
       "      <th>NumVisits</th>\n",
       "      <th>country</th>\n",
       "      <th>regionName</th>\n",
       "      <th>lat</th>\n",
       "      <th>lon</th>\n",
       "      <th>geometry</th>\n",
       "    </tr>\n",
       "  </thead>\n",
       "  <tbody>\n",
       "    <tr>\n",
       "      <th>0</th>\n",
       "      <td>66.249.76.216</td>\n",
       "      <td>45500</td>\n",
       "      <td>United States</td>\n",
       "      <td>California</td>\n",
       "      <td>37.4220</td>\n",
       "      <td>-122.08400</td>\n",
       "      <td>POINT (-122.08400 37.42200)</td>\n",
       "    </tr>\n",
       "    <tr>\n",
       "      <th>1</th>\n",
       "      <td>80.28.221.123</td>\n",
       "      <td>12259</td>\n",
       "      <td>Spain</td>\n",
       "      <td>Madrid</td>\n",
       "      <td>40.5167</td>\n",
       "      <td>-3.66479</td>\n",
       "      <td>POINT (-3.66479 40.51670)</td>\n",
       "    </tr>\n",
       "    <tr>\n",
       "      <th>2</th>\n",
       "      <td>217.125.71.222</td>\n",
       "      <td>4014</td>\n",
       "      <td>Spain</td>\n",
       "      <td>Andalusia</td>\n",
       "      <td>37.6025</td>\n",
       "      <td>-5.73070</td>\n",
       "      <td>POINT (-5.73070 37.60250)</td>\n",
       "    </tr>\n",
       "    <tr>\n",
       "      <th>3</th>\n",
       "      <td>66.249.75.148</td>\n",
       "      <td>3426</td>\n",
       "      <td>United States</td>\n",
       "      <td>Colorado</td>\n",
       "      <td>39.6663</td>\n",
       "      <td>-104.83430</td>\n",
       "      <td>POINT (-104.83430 39.66630)</td>\n",
       "    </tr>\n",
       "    <tr>\n",
       "      <th>4</th>\n",
       "      <td>62.117.197.230</td>\n",
       "      <td>2460</td>\n",
       "      <td>Spain</td>\n",
       "      <td>Madrid</td>\n",
       "      <td>40.4163</td>\n",
       "      <td>-3.69340</td>\n",
       "      <td>POINT (-3.69340 40.41630)</td>\n",
       "    </tr>\n",
       "    <tr>\n",
       "      <th>5</th>\n",
       "      <td>162.243.192.191</td>\n",
       "      <td>2049</td>\n",
       "      <td>United States</td>\n",
       "      <td>New York</td>\n",
       "      <td>40.7597</td>\n",
       "      <td>-73.98100</td>\n",
       "      <td>POINT (-73.98100 40.75970)</td>\n",
       "    </tr>\n",
       "    <tr>\n",
       "      <th>6</th>\n",
       "      <td>176.31.255.177</td>\n",
       "      <td>1044</td>\n",
       "      <td>France</td>\n",
       "      <td>Hauts-de-France</td>\n",
       "      <td>50.6917</td>\n",
       "      <td>3.20157</td>\n",
       "      <td>POINT (3.20157 50.69170)</td>\n",
       "    </tr>\n",
       "    <tr>\n",
       "      <th>7</th>\n",
       "      <td>198.143.133.154</td>\n",
       "      <td>1038</td>\n",
       "      <td>United States</td>\n",
       "      <td>Illinois</td>\n",
       "      <td>41.8786</td>\n",
       "      <td>-87.63110</td>\n",
       "      <td>POINT (-87.63110 41.87860)</td>\n",
       "    </tr>\n",
       "    <tr>\n",
       "      <th>8</th>\n",
       "      <td>81.39.110.171</td>\n",
       "      <td>1006</td>\n",
       "      <td>Spain</td>\n",
       "      <td>Madrid</td>\n",
       "      <td>40.4163</td>\n",
       "      <td>-3.69340</td>\n",
       "      <td>POINT (-3.69340 40.41630)</td>\n",
       "    </tr>\n",
       "    <tr>\n",
       "      <th>9</th>\n",
       "      <td>80.58.250.94</td>\n",
       "      <td>928</td>\n",
       "      <td>Spain</td>\n",
       "      <td>Madrid</td>\n",
       "      <td>40.5167</td>\n",
       "      <td>-3.66479</td>\n",
       "      <td>POINT (-3.66479 40.51670)</td>\n",
       "    </tr>\n",
       "  </tbody>\n",
       "</table>\n",
       "</div>"
      ],
      "text/plain": [
       "                ip  NumVisits        country       regionName      lat  \\\n",
       "0    66.249.76.216      45500  United States       California  37.4220   \n",
       "1    80.28.221.123      12259          Spain           Madrid  40.5167   \n",
       "2   217.125.71.222       4014          Spain        Andalusia  37.6025   \n",
       "3    66.249.75.148       3426  United States         Colorado  39.6663   \n",
       "4   62.117.197.230       2460          Spain           Madrid  40.4163   \n",
       "5  162.243.192.191       2049  United States         New York  40.7597   \n",
       "6   176.31.255.177       1044         France  Hauts-de-France  50.6917   \n",
       "7  198.143.133.154       1038  United States         Illinois  41.8786   \n",
       "8    81.39.110.171       1006          Spain           Madrid  40.4163   \n",
       "9     80.58.250.94        928          Spain           Madrid  40.5167   \n",
       "\n",
       "         lon                     geometry  \n",
       "0 -122.08400  POINT (-122.08400 37.42200)  \n",
       "1   -3.66479    POINT (-3.66479 40.51670)  \n",
       "2   -5.73070    POINT (-5.73070 37.60250)  \n",
       "3 -104.83430  POINT (-104.83430 39.66630)  \n",
       "4   -3.69340    POINT (-3.69340 40.41630)  \n",
       "5  -73.98100   POINT (-73.98100 40.75970)  \n",
       "6    3.20157     POINT (3.20157 50.69170)  \n",
       "7  -87.63110   POINT (-87.63110 41.87860)  \n",
       "8   -3.69340    POINT (-3.69340 40.41630)  \n",
       "9   -3.66479    POINT (-3.66479 40.51670)  "
      ]
     },
     "execution_count": 268,
     "metadata": {},
     "output_type": "execute_result"
    }
   ],
   "source": [
    "df_geo_merger = df_geo[[\"ip\", \"country\", \"regionName\",\"lat\", \"lon\",\"geometry\"]]\n",
    "df_geo_NumVisits = pd.merge(ipNumVisits, df_geo_merger, on=\"ip\")\n",
    "df_geo_NumVisits.head(10)"
   ]
  },
  {
   "cell_type": "code",
   "execution_count": 269,
   "id": "689efde1-2619-41f8-bb88-1a8e5ce611be",
   "metadata": {},
   "outputs": [
    {
     "name": "stdout",
     "output_type": "stream",
     "text": [
      "Total visitas de las ip´s con >200 : 96905\n"
     ]
    }
   ],
   "source": [
    "sumaNumVisits_200 =df_geo_NumVisits.NumVisits.sum()\n",
    "print(\"Total visitas de las ip´s con >200 :\",sumaNumVisits_200)"
   ]
  },
  {
   "cell_type": "code",
   "execution_count": 270,
   "id": "db776093-246a-49b3-9de2-ab0220766b74",
   "metadata": {},
   "outputs": [
    {
     "data": {
      "text/html": [
       "<div>\n",
       "<style scoped>\n",
       "    .dataframe tbody tr th:only-of-type {\n",
       "        vertical-align: middle;\n",
       "    }\n",
       "\n",
       "    .dataframe tbody tr th {\n",
       "        vertical-align: top;\n",
       "    }\n",
       "\n",
       "    .dataframe thead th {\n",
       "        text-align: right;\n",
       "    }\n",
       "</style>\n",
       "<table border=\"1\" class=\"dataframe\">\n",
       "  <thead>\n",
       "    <tr style=\"text-align: right;\">\n",
       "      <th></th>\n",
       "      <th>ip</th>\n",
       "      <th>NumVisits</th>\n",
       "      <th>country</th>\n",
       "      <th>regionName</th>\n",
       "      <th>lat</th>\n",
       "      <th>lon</th>\n",
       "      <th>geometry</th>\n",
       "      <th>pct_NumVisits</th>\n",
       "    </tr>\n",
       "  </thead>\n",
       "  <tbody>\n",
       "    <tr>\n",
       "      <th>0</th>\n",
       "      <td>66.249.76.216</td>\n",
       "      <td>45500</td>\n",
       "      <td>United States</td>\n",
       "      <td>California</td>\n",
       "      <td>37.4220</td>\n",
       "      <td>-122.08400</td>\n",
       "      <td>POINT (-122.08400 37.42200)</td>\n",
       "      <td>46.953202</td>\n",
       "    </tr>\n",
       "    <tr>\n",
       "      <th>1</th>\n",
       "      <td>80.28.221.123</td>\n",
       "      <td>12259</td>\n",
       "      <td>Spain</td>\n",
       "      <td>Madrid</td>\n",
       "      <td>40.5167</td>\n",
       "      <td>-3.66479</td>\n",
       "      <td>POINT (-3.66479 40.51670)</td>\n",
       "      <td>12.650534</td>\n",
       "    </tr>\n",
       "    <tr>\n",
       "      <th>2</th>\n",
       "      <td>217.125.71.222</td>\n",
       "      <td>4014</td>\n",
       "      <td>Spain</td>\n",
       "      <td>Andalusia</td>\n",
       "      <td>37.6025</td>\n",
       "      <td>-5.73070</td>\n",
       "      <td>POINT (-5.73070 37.60250)</td>\n",
       "      <td>4.142201</td>\n",
       "    </tr>\n",
       "    <tr>\n",
       "      <th>3</th>\n",
       "      <td>66.249.75.148</td>\n",
       "      <td>3426</td>\n",
       "      <td>United States</td>\n",
       "      <td>Colorado</td>\n",
       "      <td>39.6663</td>\n",
       "      <td>-104.83430</td>\n",
       "      <td>POINT (-104.83430 39.66630)</td>\n",
       "      <td>3.535421</td>\n",
       "    </tr>\n",
       "    <tr>\n",
       "      <th>4</th>\n",
       "      <td>62.117.197.230</td>\n",
       "      <td>2460</td>\n",
       "      <td>Spain</td>\n",
       "      <td>Madrid</td>\n",
       "      <td>40.4163</td>\n",
       "      <td>-3.69340</td>\n",
       "      <td>POINT (-3.69340 40.41630)</td>\n",
       "      <td>2.538569</td>\n",
       "    </tr>\n",
       "    <tr>\n",
       "      <th>5</th>\n",
       "      <td>162.243.192.191</td>\n",
       "      <td>2049</td>\n",
       "      <td>United States</td>\n",
       "      <td>New York</td>\n",
       "      <td>40.7597</td>\n",
       "      <td>-73.98100</td>\n",
       "      <td>POINT (-73.98100 40.75970)</td>\n",
       "      <td>2.114442</td>\n",
       "    </tr>\n",
       "    <tr>\n",
       "      <th>6</th>\n",
       "      <td>176.31.255.177</td>\n",
       "      <td>1044</td>\n",
       "      <td>France</td>\n",
       "      <td>Hauts-de-France</td>\n",
       "      <td>50.6917</td>\n",
       "      <td>3.20157</td>\n",
       "      <td>POINT (3.20157 50.69170)</td>\n",
       "      <td>1.077344</td>\n",
       "    </tr>\n",
       "    <tr>\n",
       "      <th>7</th>\n",
       "      <td>198.143.133.154</td>\n",
       "      <td>1038</td>\n",
       "      <td>United States</td>\n",
       "      <td>Illinois</td>\n",
       "      <td>41.8786</td>\n",
       "      <td>-87.63110</td>\n",
       "      <td>POINT (-87.63110 41.87860)</td>\n",
       "      <td>1.071152</td>\n",
       "    </tr>\n",
       "    <tr>\n",
       "      <th>8</th>\n",
       "      <td>81.39.110.171</td>\n",
       "      <td>1006</td>\n",
       "      <td>Spain</td>\n",
       "      <td>Madrid</td>\n",
       "      <td>40.4163</td>\n",
       "      <td>-3.69340</td>\n",
       "      <td>POINT (-3.69340 40.41630)</td>\n",
       "      <td>1.038130</td>\n",
       "    </tr>\n",
       "    <tr>\n",
       "      <th>9</th>\n",
       "      <td>80.58.250.94</td>\n",
       "      <td>928</td>\n",
       "      <td>Spain</td>\n",
       "      <td>Madrid</td>\n",
       "      <td>40.5167</td>\n",
       "      <td>-3.66479</td>\n",
       "      <td>POINT (-3.66479 40.51670)</td>\n",
       "      <td>0.957639</td>\n",
       "    </tr>\n",
       "  </tbody>\n",
       "</table>\n",
       "</div>"
      ],
      "text/plain": [
       "                ip  NumVisits        country       regionName      lat  \\\n",
       "0    66.249.76.216      45500  United States       California  37.4220   \n",
       "1    80.28.221.123      12259          Spain           Madrid  40.5167   \n",
       "2   217.125.71.222       4014          Spain        Andalusia  37.6025   \n",
       "3    66.249.75.148       3426  United States         Colorado  39.6663   \n",
       "4   62.117.197.230       2460          Spain           Madrid  40.4163   \n",
       "5  162.243.192.191       2049  United States         New York  40.7597   \n",
       "6   176.31.255.177       1044         France  Hauts-de-France  50.6917   \n",
       "7  198.143.133.154       1038  United States         Illinois  41.8786   \n",
       "8    81.39.110.171       1006          Spain           Madrid  40.4163   \n",
       "9     80.58.250.94        928          Spain           Madrid  40.5167   \n",
       "\n",
       "         lon                     geometry  pct_NumVisits  \n",
       "0 -122.08400  POINT (-122.08400 37.42200)      46.953202  \n",
       "1   -3.66479    POINT (-3.66479 40.51670)      12.650534  \n",
       "2   -5.73070    POINT (-5.73070 37.60250)       4.142201  \n",
       "3 -104.83430  POINT (-104.83430 39.66630)       3.535421  \n",
       "4   -3.69340    POINT (-3.69340 40.41630)       2.538569  \n",
       "5  -73.98100   POINT (-73.98100 40.75970)       2.114442  \n",
       "6    3.20157     POINT (3.20157 50.69170)       1.077344  \n",
       "7  -87.63110   POINT (-87.63110 41.87860)       1.071152  \n",
       "8   -3.69340    POINT (-3.69340 40.41630)       1.038130  \n",
       "9   -3.66479    POINT (-3.66479 40.51670)       0.957639  "
      ]
     },
     "execution_count": 270,
     "metadata": {},
     "output_type": "execute_result"
    }
   ],
   "source": [
    "df_geo_NumVisits[\"pct_NumVisits\"] = (df_geo_NumVisits[\"NumVisits\"]/sumaNumVisits_200)*100\n",
    "df_geo_NumVisits.head(10)"
   ]
  },
  {
   "cell_type": "code",
   "execution_count": 271,
   "id": "e210ebb3-3025-4633-8831-c13bad49e763",
   "metadata": {},
   "outputs": [
    {
     "name": "stdout",
     "output_type": "stream",
     "text": [
      "Suma de porcentajes de Visitas en USA + Spain : 59.6037356173572\n"
     ]
    }
   ],
   "source": [
    "print(\"Suma de porcentajes de Visitas en USA + Spain :\",df_geo_NumVisits.pct_NumVisits[0]+df_geo_NumVisits.pct_NumVisits[1])"
   ]
  },
  {
   "cell_type": "markdown",
   "id": "6e43b44c-4e81-4216-8ad9-e7373acaa51d",
   "metadata": {},
   "source": [
    "##### 3.1.3 Gráfico 1: Número de Visitas por País y Región (numVisitas>200)"
   ]
  },
  {
   "cell_type": "code",
   "execution_count": 272,
   "id": "adc2b077-1317-41fd-a282-de52211977b1",
   "metadata": {},
   "outputs": [
    {
     "data": {
      "application/vnd.plotly.v1+json": {
       "config": {
        "plotlyServerURL": "https://plot.ly"
       },
       "data": [
        {
         "hovertemplate": "<b>%{hovertext}</b><br><br>regionName=California<br>country=%{x}<br>NumVisits=%{marker.size}<extra></extra>",
         "hovertext": [
          "United States",
          "United States",
          "United States",
          "United States"
         ],
         "ids": [
          "United States",
          "United States",
          "United States",
          "United States"
         ],
         "legendgroup": "California",
         "marker": {
          "color": "#636efa",
          "size": [
           45500,
           626,
           624,
           587
          ],
          "sizemode": "area",
          "sizeref": 113.75,
          "symbol": "circle"
         },
         "mode": "markers",
         "name": "California",
         "orientation": "v",
         "showlegend": true,
         "type": "scatter",
         "x": [
          "United States",
          "United States",
          "United States",
          "United States"
         ],
         "xaxis": "x",
         "y": [
          45500,
          626,
          624,
          587
         ],
         "yaxis": "y"
        },
        {
         "hovertemplate": "<b>%{hovertext}</b><br><br>regionName=Madrid<br>country=%{x}<br>NumVisits=%{marker.size}<extra></extra>",
         "hovertext": [
          "Spain",
          "Spain",
          "Spain",
          "Spain",
          "Spain",
          "Spain",
          "Spain",
          "Spain",
          "Spain",
          "Spain",
          "Spain",
          "Spain",
          "Spain",
          "Spain"
         ],
         "ids": [
          "Spain",
          "Spain",
          "Spain",
          "Spain",
          "Spain",
          "Spain",
          "Spain",
          "Spain",
          "Spain",
          "Spain",
          "Spain",
          "Spain",
          "Spain",
          "Spain"
         ],
         "legendgroup": "Madrid",
         "marker": {
          "color": "#EF553B",
          "size": [
           12259,
           2460,
           1006,
           928,
           356,
           343,
           300,
           260,
           256,
           240,
           231,
           226,
           215,
           214
          ],
          "sizemode": "area",
          "sizeref": 113.75,
          "symbol": "circle"
         },
         "mode": "markers",
         "name": "Madrid",
         "orientation": "v",
         "showlegend": true,
         "type": "scatter",
         "x": [
          "Spain",
          "Spain",
          "Spain",
          "Spain",
          "Spain",
          "Spain",
          "Spain",
          "Spain",
          "Spain",
          "Spain",
          "Spain",
          "Spain",
          "Spain",
          "Spain"
         ],
         "xaxis": "x",
         "y": [
          12259,
          2460,
          1006,
          928,
          356,
          343,
          300,
          260,
          256,
          240,
          231,
          226,
          215,
          214
         ],
         "yaxis": "y"
        },
        {
         "hovertemplate": "<b>%{hovertext}</b><br><br>regionName=Andalusia<br>country=%{x}<br>NumVisits=%{marker.size}<extra></extra>",
         "hovertext": [
          "Spain",
          "Spain",
          "Spain",
          "Spain",
          "Spain",
          "Spain",
          "Spain"
         ],
         "ids": [
          "Spain",
          "Spain",
          "Spain",
          "Spain",
          "Spain",
          "Spain",
          "Spain"
         ],
         "legendgroup": "Andalusia",
         "marker": {
          "color": "#00cc96",
          "size": [
           4014,
           897,
           483,
           383,
           263,
           241,
           216
          ],
          "sizemode": "area",
          "sizeref": 113.75,
          "symbol": "circle"
         },
         "mode": "markers",
         "name": "Andalusia",
         "orientation": "v",
         "showlegend": true,
         "type": "scatter",
         "x": [
          "Spain",
          "Spain",
          "Spain",
          "Spain",
          "Spain",
          "Spain",
          "Spain"
         ],
         "xaxis": "x",
         "y": [
          4014,
          897,
          483,
          383,
          263,
          241,
          216
         ],
         "yaxis": "y"
        },
        {
         "hovertemplate": "<b>%{hovertext}</b><br><br>regionName=Colorado<br>country=%{x}<br>NumVisits=%{marker.size}<extra></extra>",
         "hovertext": [
          "United States"
         ],
         "ids": [
          "United States"
         ],
         "legendgroup": "Colorado",
         "marker": {
          "color": "#ab63fa",
          "size": [
           3426
          ],
          "sizemode": "area",
          "sizeref": 113.75,
          "symbol": "circle"
         },
         "mode": "markers",
         "name": "Colorado",
         "orientation": "v",
         "showlegend": true,
         "type": "scatter",
         "x": [
          "United States"
         ],
         "xaxis": "x",
         "y": [
          3426
         ],
         "yaxis": "y"
        },
        {
         "hovertemplate": "<b>%{hovertext}</b><br><br>regionName=New York<br>country=%{x}<br>NumVisits=%{marker.size}<extra></extra>",
         "hovertext": [
          "United States"
         ],
         "ids": [
          "United States"
         ],
         "legendgroup": "New York",
         "marker": {
          "color": "#FFA15A",
          "size": [
           2049
          ],
          "sizemode": "area",
          "sizeref": 113.75,
          "symbol": "circle"
         },
         "mode": "markers",
         "name": "New York",
         "orientation": "v",
         "showlegend": true,
         "type": "scatter",
         "x": [
          "United States"
         ],
         "xaxis": "x",
         "y": [
          2049
         ],
         "yaxis": "y"
        },
        {
         "hovertemplate": "<b>%{hovertext}</b><br><br>regionName=Hauts-de-France<br>country=%{x}<br>NumVisits=%{marker.size}<extra></extra>",
         "hovertext": [
          "France"
         ],
         "ids": [
          "France"
         ],
         "legendgroup": "Hauts-de-France",
         "marker": {
          "color": "#19d3f3",
          "size": [
           1044
          ],
          "sizemode": "area",
          "sizeref": 113.75,
          "symbol": "circle"
         },
         "mode": "markers",
         "name": "Hauts-de-France",
         "orientation": "v",
         "showlegend": true,
         "type": "scatter",
         "x": [
          "France"
         ],
         "xaxis": "x",
         "y": [
          1044
         ],
         "yaxis": "y"
        },
        {
         "hovertemplate": "<b>%{hovertext}</b><br><br>regionName=Illinois<br>country=%{x}<br>NumVisits=%{marker.size}<extra></extra>",
         "hovertext": [
          "United States"
         ],
         "ids": [
          "United States"
         ],
         "legendgroup": "Illinois",
         "marker": {
          "color": "#FF6692",
          "size": [
           1038
          ],
          "sizemode": "area",
          "sizeref": 113.75,
          "symbol": "circle"
         },
         "mode": "markers",
         "name": "Illinois",
         "orientation": "v",
         "showlegend": true,
         "type": "scatter",
         "x": [
          "United States"
         ],
         "xaxis": "x",
         "y": [
          1038
         ],
         "yaxis": "y"
        },
        {
         "hovertemplate": "<b>%{hovertext}</b><br><br>regionName=Texas<br>country=%{x}<br>NumVisits=%{marker.size}<extra></extra>",
         "hovertext": [
          "United States",
          "United States"
         ],
         "ids": [
          "United States",
          "United States"
         ],
         "legendgroup": "Texas",
         "marker": {
          "color": "#B6E880",
          "size": [
           836,
           810
          ],
          "sizemode": "area",
          "sizeref": 113.75,
          "symbol": "circle"
         },
         "mode": "markers",
         "name": "Texas",
         "orientation": "v",
         "showlegend": true,
         "type": "scatter",
         "x": [
          "United States",
          "United States"
         ],
         "xaxis": "x",
         "y": [
          836,
          810
         ],
         "yaxis": "y"
        },
        {
         "hovertemplate": "<b>%{hovertext}</b><br><br>regionName=Balearic Islands<br>country=%{x}<br>NumVisits=%{marker.size}<extra></extra>",
         "hovertext": [
          "Spain",
          "Spain",
          "Spain",
          "Spain",
          "Spain",
          "Spain"
         ],
         "ids": [
          "Spain",
          "Spain",
          "Spain",
          "Spain",
          "Spain",
          "Spain"
         ],
         "legendgroup": "Balearic Islands",
         "marker": {
          "color": "#FF97FF",
          "size": [
           636,
           321,
           276,
           227,
           224,
           213
          ],
          "sizemode": "area",
          "sizeref": 113.75,
          "symbol": "circle"
         },
         "mode": "markers",
         "name": "Balearic Islands",
         "orientation": "v",
         "showlegend": true,
         "type": "scatter",
         "x": [
          "Spain",
          "Spain",
          "Spain",
          "Spain",
          "Spain",
          "Spain"
         ],
         "xaxis": "x",
         "y": [
          636,
          321,
          276,
          227,
          224,
          213
         ],
         "yaxis": "y"
        },
        {
         "hovertemplate": "<b>%{hovertext}</b><br><br>regionName=Catalonia<br>country=%{x}<br>NumVisits=%{marker.size}<extra></extra>",
         "hovertext": [
          "Spain",
          "Spain",
          "Spain",
          "Spain",
          "Spain",
          "Spain",
          "Spain"
         ],
         "ids": [
          "Spain",
          "Spain",
          "Spain",
          "Spain",
          "Spain",
          "Spain",
          "Spain"
         ],
         "legendgroup": "Catalonia",
         "marker": {
          "color": "#FECB52",
          "size": [
           632,
           378,
           373,
           316,
           289,
           205,
           204
          ],
          "sizemode": "area",
          "sizeref": 113.75,
          "symbol": "circle"
         },
         "mode": "markers",
         "name": "Catalonia",
         "orientation": "v",
         "showlegend": true,
         "type": "scatter",
         "x": [
          "Spain",
          "Spain",
          "Spain",
          "Spain",
          "Spain",
          "Spain",
          "Spain"
         ],
         "xaxis": "x",
         "y": [
          632,
          378,
          373,
          316,
          289,
          205,
          204
         ],
         "yaxis": "y"
        },
        {
         "hovertemplate": "<b>%{hovertext}</b><br><br>regionName=Saxony<br>country=%{x}<br>NumVisits=%{marker.size}<extra></extra>",
         "hovertext": [
          "Germany",
          "Germany",
          "Germany"
         ],
         "ids": [
          "Germany",
          "Germany",
          "Germany"
         ],
         "legendgroup": "Saxony",
         "marker": {
          "color": "#636efa",
          "size": [
           516,
           249,
           231
          ],
          "sizemode": "area",
          "sizeref": 113.75,
          "symbol": "circle"
         },
         "mode": "markers",
         "name": "Saxony",
         "orientation": "v",
         "showlegend": true,
         "type": "scatter",
         "x": [
          "Germany",
          "Germany",
          "Germany"
         ],
         "xaxis": "x",
         "y": [
          516,
          249,
          231
         ],
         "yaxis": "y"
        },
        {
         "hovertemplate": "<b>%{hovertext}</b><br><br>regionName=North Holland<br>country=%{x}<br>NumVisits=%{marker.size}<extra></extra>",
         "hovertext": [
          "Netherlands",
          "Netherlands",
          "Netherlands",
          "Netherlands",
          "Netherlands",
          "Netherlands",
          "Netherlands",
          "Netherlands",
          "Netherlands",
          "Netherlands",
          "Netherlands"
         ],
         "ids": [
          "Netherlands",
          "Netherlands",
          "Netherlands",
          "Netherlands",
          "Netherlands",
          "Netherlands",
          "Netherlands",
          "Netherlands",
          "Netherlands",
          "Netherlands",
          "Netherlands"
         ],
         "legendgroup": "North Holland",
         "marker": {
          "color": "#EF553B",
          "size": [
           489,
           487,
           471,
           459,
           456,
           452,
           449,
           447,
           437,
           425,
           414
          ],
          "sizemode": "area",
          "sizeref": 113.75,
          "symbol": "circle"
         },
         "mode": "markers",
         "name": "North Holland",
         "orientation": "v",
         "showlegend": true,
         "type": "scatter",
         "x": [
          "Netherlands",
          "Netherlands",
          "Netherlands",
          "Netherlands",
          "Netherlands",
          "Netherlands",
          "Netherlands",
          "Netherlands",
          "Netherlands",
          "Netherlands",
          "Netherlands"
         ],
         "xaxis": "x",
         "y": [
          489,
          487,
          471,
          459,
          456,
          452,
          449,
          447,
          437,
          425,
          414
         ],
         "yaxis": "y"
        },
        {
         "hovertemplate": "<b>%{hovertext}</b><br><br>regionName=Castille-La Mancha<br>country=%{x}<br>NumVisits=%{marker.size}<extra></extra>",
         "hovertext": [
          "Spain"
         ],
         "ids": [
          "Spain"
         ],
         "legendgroup": "Castille-La Mancha",
         "marker": {
          "color": "#00cc96",
          "size": [
           459
          ],
          "sizemode": "area",
          "sizeref": 113.75,
          "symbol": "circle"
         },
         "mode": "markers",
         "name": "Castille-La Mancha",
         "orientation": "v",
         "showlegend": true,
         "type": "scatter",
         "x": [
          "Spain"
         ],
         "xaxis": "x",
         "y": [
          459
         ],
         "yaxis": "y"
        },
        {
         "hovertemplate": "<b>%{hovertext}</b><br><br>regionName=Virginia<br>country=%{x}<br>NumVisits=%{marker.size}<extra></extra>",
         "hovertext": [
          "United States",
          "United States",
          "United States"
         ],
         "ids": [
          "United States",
          "United States",
          "United States"
         ],
         "legendgroup": "Virginia",
         "marker": {
          "color": "#ab63fa",
          "size": [
           374,
           335,
           313
          ],
          "sizemode": "area",
          "sizeref": 113.75,
          "symbol": "circle"
         },
         "mode": "markers",
         "name": "Virginia",
         "orientation": "v",
         "showlegend": true,
         "type": "scatter",
         "x": [
          "United States",
          "United States",
          "United States"
         ],
         "xaxis": "x",
         "y": [
          374,
          335,
          313
         ],
         "yaxis": "y"
        },
        {
         "hovertemplate": "<b>%{hovertext}</b><br><br>regionName=Valencia<br>country=%{x}<br>NumVisits=%{marker.size}<extra></extra>",
         "hovertext": [
          "Spain",
          "Spain",
          "Spain"
         ],
         "ids": [
          "Spain",
          "Spain",
          "Spain"
         ],
         "legendgroup": "Valencia",
         "marker": {
          "color": "#FFA15A",
          "size": [
           344,
           287,
           264
          ],
          "sizemode": "area",
          "sizeref": 113.75,
          "symbol": "circle"
         },
         "mode": "markers",
         "name": "Valencia",
         "orientation": "v",
         "showlegend": true,
         "type": "scatter",
         "x": [
          "Spain",
          "Spain",
          "Spain"
         ],
         "xaxis": "x",
         "y": [
          344,
          287,
          264
         ],
         "yaxis": "y"
        },
        {
         "hovertemplate": "<b>%{hovertext}</b><br><br>regionName=North Rhine-Westphalia<br>country=%{x}<br>NumVisits=%{marker.size}<extra></extra>",
         "hovertext": [
          "Germany"
         ],
         "ids": [
          "Germany"
         ],
         "legendgroup": "North Rhine-Westphalia",
         "marker": {
          "color": "#19d3f3",
          "size": [
           279
          ],
          "sizemode": "area",
          "sizeref": 113.75,
          "symbol": "circle"
         },
         "mode": "markers",
         "name": "North Rhine-Westphalia",
         "orientation": "v",
         "showlegend": true,
         "type": "scatter",
         "x": [
          "Germany"
         ],
         "xaxis": "x",
         "y": [
          279
         ],
         "yaxis": "y"
        },
        {
         "hovertemplate": "<b>%{hovertext}</b><br><br>regionName=Principality of Asturias<br>country=%{x}<br>NumVisits=%{marker.size}<extra></extra>",
         "hovertext": [
          "Spain",
          "Spain"
         ],
         "ids": [
          "Spain",
          "Spain"
         ],
         "legendgroup": "Principality of Asturias",
         "marker": {
          "color": "#FF6692",
          "size": [
           272,
           217
          ],
          "sizemode": "area",
          "sizeref": 113.75,
          "symbol": "circle"
         },
         "mode": "markers",
         "name": "Principality of Asturias",
         "orientation": "v",
         "showlegend": true,
         "type": "scatter",
         "x": [
          "Spain",
          "Spain"
         ],
         "xaxis": "x",
         "y": [
          272,
          217
         ],
         "yaxis": "y"
        },
        {
         "hovertemplate": "<b>%{hovertext}</b><br><br>regionName=Moscow<br>country=%{x}<br>NumVisits=%{marker.size}<extra></extra>",
         "hovertext": [
          "Russia"
         ],
         "ids": [
          "Russia"
         ],
         "legendgroup": "Moscow",
         "marker": {
          "color": "#B6E880",
          "size": [
           249
          ],
          "sizemode": "area",
          "sizeref": 113.75,
          "symbol": "circle"
         },
         "mode": "markers",
         "name": "Moscow",
         "orientation": "v",
         "showlegend": true,
         "type": "scatter",
         "x": [
          "Russia"
         ],
         "xaxis": "x",
         "y": [
          249
         ],
         "yaxis": "y"
        },
        {
         "hovertemplate": "<b>%{hovertext}</b><br><br>regionName=Murcia<br>country=%{x}<br>NumVisits=%{marker.size}<extra></extra>",
         "hovertext": [
          "Spain"
         ],
         "ids": [
          "Spain"
         ],
         "legendgroup": "Murcia",
         "marker": {
          "color": "#FF97FF",
          "size": [
           230
          ],
          "sizemode": "area",
          "sizeref": 113.75,
          "symbol": "circle"
         },
         "mode": "markers",
         "name": "Murcia",
         "orientation": "v",
         "showlegend": true,
         "type": "scatter",
         "x": [
          "Spain"
         ],
         "xaxis": "x",
         "y": [
          230
         ],
         "yaxis": "y"
        },
        {
         "hovertemplate": "<b>%{hovertext}</b><br><br>regionName=Navarre<br>country=%{x}<br>NumVisits=%{marker.size}<extra></extra>",
         "hovertext": [
          "Spain"
         ],
         "ids": [
          "Spain"
         ],
         "legendgroup": "Navarre",
         "marker": {
          "color": "#FECB52",
          "size": [
           229
          ],
          "sizemode": "area",
          "sizeref": 113.75,
          "symbol": "circle"
         },
         "mode": "markers",
         "name": "Navarre",
         "orientation": "v",
         "showlegend": true,
         "type": "scatter",
         "x": [
          "Spain"
         ],
         "xaxis": "x",
         "y": [
          229
         ],
         "yaxis": "y"
        },
        {
         "hovertemplate": "<b>%{hovertext}</b><br><br>regionName=Lombardy<br>country=%{x}<br>NumVisits=%{marker.size}<extra></extra>",
         "hovertext": [
          "Italy"
         ],
         "ids": [
          "Italy"
         ],
         "legendgroup": "Lombardy",
         "marker": {
          "color": "#636efa",
          "size": [
           229
          ],
          "sizemode": "area",
          "sizeref": 113.75,
          "symbol": "circle"
         },
         "mode": "markers",
         "name": "Lombardy",
         "orientation": "v",
         "showlegend": true,
         "type": "scatter",
         "x": [
          "Italy"
         ],
         "xaxis": "x",
         "y": [
          229
         ],
         "yaxis": "y"
        },
        {
         "hovertemplate": "<b>%{hovertext}</b><br><br>regionName=Lazio<br>country=%{x}<br>NumVisits=%{marker.size}<extra></extra>",
         "hovertext": [
          "Italy"
         ],
         "ids": [
          "Italy"
         ],
         "legendgroup": "Lazio",
         "marker": {
          "color": "#EF553B",
          "size": [
           217
          ],
          "sizemode": "area",
          "sizeref": 113.75,
          "symbol": "circle"
         },
         "mode": "markers",
         "name": "Lazio",
         "orientation": "v",
         "showlegend": true,
         "type": "scatter",
         "x": [
          "Italy"
         ],
         "xaxis": "x",
         "y": [
          217
         ],
         "yaxis": "y"
        }
       ],
       "layout": {
        "autosize": true,
        "legend": {
         "itemsizing": "constant",
         "title": {
          "text": "regionName"
         },
         "tracegroupgap": 0
        },
        "margin": {
         "t": 60
        },
        "template": {
         "data": {
          "bar": [
           {
            "error_x": {
             "color": "#2a3f5f"
            },
            "error_y": {
             "color": "#2a3f5f"
            },
            "marker": {
             "line": {
              "color": "#E5ECF6",
              "width": 0.5
             },
             "pattern": {
              "fillmode": "overlay",
              "size": 10,
              "solidity": 0.2
             }
            },
            "type": "bar"
           }
          ],
          "barpolar": [
           {
            "marker": {
             "line": {
              "color": "#E5ECF6",
              "width": 0.5
             },
             "pattern": {
              "fillmode": "overlay",
              "size": 10,
              "solidity": 0.2
             }
            },
            "type": "barpolar"
           }
          ],
          "carpet": [
           {
            "aaxis": {
             "endlinecolor": "#2a3f5f",
             "gridcolor": "white",
             "linecolor": "white",
             "minorgridcolor": "white",
             "startlinecolor": "#2a3f5f"
            },
            "baxis": {
             "endlinecolor": "#2a3f5f",
             "gridcolor": "white",
             "linecolor": "white",
             "minorgridcolor": "white",
             "startlinecolor": "#2a3f5f"
            },
            "type": "carpet"
           }
          ],
          "choropleth": [
           {
            "colorbar": {
             "outlinewidth": 0,
             "ticks": ""
            },
            "type": "choropleth"
           }
          ],
          "contour": [
           {
            "colorbar": {
             "outlinewidth": 0,
             "ticks": ""
            },
            "colorscale": [
             [
              0,
              "#0d0887"
             ],
             [
              0.1111111111111111,
              "#46039f"
             ],
             [
              0.2222222222222222,
              "#7201a8"
             ],
             [
              0.3333333333333333,
              "#9c179e"
             ],
             [
              0.4444444444444444,
              "#bd3786"
             ],
             [
              0.5555555555555556,
              "#d8576b"
             ],
             [
              0.6666666666666666,
              "#ed7953"
             ],
             [
              0.7777777777777778,
              "#fb9f3a"
             ],
             [
              0.8888888888888888,
              "#fdca26"
             ],
             [
              1,
              "#f0f921"
             ]
            ],
            "type": "contour"
           }
          ],
          "contourcarpet": [
           {
            "colorbar": {
             "outlinewidth": 0,
             "ticks": ""
            },
            "type": "contourcarpet"
           }
          ],
          "heatmap": [
           {
            "colorbar": {
             "outlinewidth": 0,
             "ticks": ""
            },
            "colorscale": [
             [
              0,
              "#0d0887"
             ],
             [
              0.1111111111111111,
              "#46039f"
             ],
             [
              0.2222222222222222,
              "#7201a8"
             ],
             [
              0.3333333333333333,
              "#9c179e"
             ],
             [
              0.4444444444444444,
              "#bd3786"
             ],
             [
              0.5555555555555556,
              "#d8576b"
             ],
             [
              0.6666666666666666,
              "#ed7953"
             ],
             [
              0.7777777777777778,
              "#fb9f3a"
             ],
             [
              0.8888888888888888,
              "#fdca26"
             ],
             [
              1,
              "#f0f921"
             ]
            ],
            "type": "heatmap"
           }
          ],
          "heatmapgl": [
           {
            "colorbar": {
             "outlinewidth": 0,
             "ticks": ""
            },
            "colorscale": [
             [
              0,
              "#0d0887"
             ],
             [
              0.1111111111111111,
              "#46039f"
             ],
             [
              0.2222222222222222,
              "#7201a8"
             ],
             [
              0.3333333333333333,
              "#9c179e"
             ],
             [
              0.4444444444444444,
              "#bd3786"
             ],
             [
              0.5555555555555556,
              "#d8576b"
             ],
             [
              0.6666666666666666,
              "#ed7953"
             ],
             [
              0.7777777777777778,
              "#fb9f3a"
             ],
             [
              0.8888888888888888,
              "#fdca26"
             ],
             [
              1,
              "#f0f921"
             ]
            ],
            "type": "heatmapgl"
           }
          ],
          "histogram": [
           {
            "marker": {
             "pattern": {
              "fillmode": "overlay",
              "size": 10,
              "solidity": 0.2
             }
            },
            "type": "histogram"
           }
          ],
          "histogram2d": [
           {
            "colorbar": {
             "outlinewidth": 0,
             "ticks": ""
            },
            "colorscale": [
             [
              0,
              "#0d0887"
             ],
             [
              0.1111111111111111,
              "#46039f"
             ],
             [
              0.2222222222222222,
              "#7201a8"
             ],
             [
              0.3333333333333333,
              "#9c179e"
             ],
             [
              0.4444444444444444,
              "#bd3786"
             ],
             [
              0.5555555555555556,
              "#d8576b"
             ],
             [
              0.6666666666666666,
              "#ed7953"
             ],
             [
              0.7777777777777778,
              "#fb9f3a"
             ],
             [
              0.8888888888888888,
              "#fdca26"
             ],
             [
              1,
              "#f0f921"
             ]
            ],
            "type": "histogram2d"
           }
          ],
          "histogram2dcontour": [
           {
            "colorbar": {
             "outlinewidth": 0,
             "ticks": ""
            },
            "colorscale": [
             [
              0,
              "#0d0887"
             ],
             [
              0.1111111111111111,
              "#46039f"
             ],
             [
              0.2222222222222222,
              "#7201a8"
             ],
             [
              0.3333333333333333,
              "#9c179e"
             ],
             [
              0.4444444444444444,
              "#bd3786"
             ],
             [
              0.5555555555555556,
              "#d8576b"
             ],
             [
              0.6666666666666666,
              "#ed7953"
             ],
             [
              0.7777777777777778,
              "#fb9f3a"
             ],
             [
              0.8888888888888888,
              "#fdca26"
             ],
             [
              1,
              "#f0f921"
             ]
            ],
            "type": "histogram2dcontour"
           }
          ],
          "mesh3d": [
           {
            "colorbar": {
             "outlinewidth": 0,
             "ticks": ""
            },
            "type": "mesh3d"
           }
          ],
          "parcoords": [
           {
            "line": {
             "colorbar": {
              "outlinewidth": 0,
              "ticks": ""
             }
            },
            "type": "parcoords"
           }
          ],
          "pie": [
           {
            "automargin": true,
            "type": "pie"
           }
          ],
          "scatter": [
           {
            "marker": {
             "colorbar": {
              "outlinewidth": 0,
              "ticks": ""
             }
            },
            "type": "scatter"
           }
          ],
          "scatter3d": [
           {
            "line": {
             "colorbar": {
              "outlinewidth": 0,
              "ticks": ""
             }
            },
            "marker": {
             "colorbar": {
              "outlinewidth": 0,
              "ticks": ""
             }
            },
            "type": "scatter3d"
           }
          ],
          "scattercarpet": [
           {
            "marker": {
             "colorbar": {
              "outlinewidth": 0,
              "ticks": ""
             }
            },
            "type": "scattercarpet"
           }
          ],
          "scattergeo": [
           {
            "marker": {
             "colorbar": {
              "outlinewidth": 0,
              "ticks": ""
             }
            },
            "type": "scattergeo"
           }
          ],
          "scattergl": [
           {
            "marker": {
             "colorbar": {
              "outlinewidth": 0,
              "ticks": ""
             }
            },
            "type": "scattergl"
           }
          ],
          "scattermapbox": [
           {
            "marker": {
             "colorbar": {
              "outlinewidth": 0,
              "ticks": ""
             }
            },
            "type": "scattermapbox"
           }
          ],
          "scatterpolar": [
           {
            "marker": {
             "colorbar": {
              "outlinewidth": 0,
              "ticks": ""
             }
            },
            "type": "scatterpolar"
           }
          ],
          "scatterpolargl": [
           {
            "marker": {
             "colorbar": {
              "outlinewidth": 0,
              "ticks": ""
             }
            },
            "type": "scatterpolargl"
           }
          ],
          "scatterternary": [
           {
            "marker": {
             "colorbar": {
              "outlinewidth": 0,
              "ticks": ""
             }
            },
            "type": "scatterternary"
           }
          ],
          "surface": [
           {
            "colorbar": {
             "outlinewidth": 0,
             "ticks": ""
            },
            "colorscale": [
             [
              0,
              "#0d0887"
             ],
             [
              0.1111111111111111,
              "#46039f"
             ],
             [
              0.2222222222222222,
              "#7201a8"
             ],
             [
              0.3333333333333333,
              "#9c179e"
             ],
             [
              0.4444444444444444,
              "#bd3786"
             ],
             [
              0.5555555555555556,
              "#d8576b"
             ],
             [
              0.6666666666666666,
              "#ed7953"
             ],
             [
              0.7777777777777778,
              "#fb9f3a"
             ],
             [
              0.8888888888888888,
              "#fdca26"
             ],
             [
              1,
              "#f0f921"
             ]
            ],
            "type": "surface"
           }
          ],
          "table": [
           {
            "cells": {
             "fill": {
              "color": "#EBF0F8"
             },
             "line": {
              "color": "white"
             }
            },
            "header": {
             "fill": {
              "color": "#C8D4E3"
             },
             "line": {
              "color": "white"
             }
            },
            "type": "table"
           }
          ]
         },
         "layout": {
          "annotationdefaults": {
           "arrowcolor": "#2a3f5f",
           "arrowhead": 0,
           "arrowwidth": 1
          },
          "autotypenumbers": "strict",
          "coloraxis": {
           "colorbar": {
            "outlinewidth": 0,
            "ticks": ""
           }
          },
          "colorscale": {
           "diverging": [
            [
             0,
             "#8e0152"
            ],
            [
             0.1,
             "#c51b7d"
            ],
            [
             0.2,
             "#de77ae"
            ],
            [
             0.3,
             "#f1b6da"
            ],
            [
             0.4,
             "#fde0ef"
            ],
            [
             0.5,
             "#f7f7f7"
            ],
            [
             0.6,
             "#e6f5d0"
            ],
            [
             0.7,
             "#b8e186"
            ],
            [
             0.8,
             "#7fbc41"
            ],
            [
             0.9,
             "#4d9221"
            ],
            [
             1,
             "#276419"
            ]
           ],
           "sequential": [
            [
             0,
             "#0d0887"
            ],
            [
             0.1111111111111111,
             "#46039f"
            ],
            [
             0.2222222222222222,
             "#7201a8"
            ],
            [
             0.3333333333333333,
             "#9c179e"
            ],
            [
             0.4444444444444444,
             "#bd3786"
            ],
            [
             0.5555555555555556,
             "#d8576b"
            ],
            [
             0.6666666666666666,
             "#ed7953"
            ],
            [
             0.7777777777777778,
             "#fb9f3a"
            ],
            [
             0.8888888888888888,
             "#fdca26"
            ],
            [
             1,
             "#f0f921"
            ]
           ],
           "sequentialminus": [
            [
             0,
             "#0d0887"
            ],
            [
             0.1111111111111111,
             "#46039f"
            ],
            [
             0.2222222222222222,
             "#7201a8"
            ],
            [
             0.3333333333333333,
             "#9c179e"
            ],
            [
             0.4444444444444444,
             "#bd3786"
            ],
            [
             0.5555555555555556,
             "#d8576b"
            ],
            [
             0.6666666666666666,
             "#ed7953"
            ],
            [
             0.7777777777777778,
             "#fb9f3a"
            ],
            [
             0.8888888888888888,
             "#fdca26"
            ],
            [
             1,
             "#f0f921"
            ]
           ]
          },
          "colorway": [
           "#636efa",
           "#EF553B",
           "#00cc96",
           "#ab63fa",
           "#FFA15A",
           "#19d3f3",
           "#FF6692",
           "#B6E880",
           "#FF97FF",
           "#FECB52"
          ],
          "font": {
           "color": "#2a3f5f"
          },
          "geo": {
           "bgcolor": "white",
           "lakecolor": "white",
           "landcolor": "#E5ECF6",
           "showlakes": true,
           "showland": true,
           "subunitcolor": "white"
          },
          "hoverlabel": {
           "align": "left"
          },
          "hovermode": "closest",
          "mapbox": {
           "style": "light"
          },
          "paper_bgcolor": "white",
          "plot_bgcolor": "#E5ECF6",
          "polar": {
           "angularaxis": {
            "gridcolor": "white",
            "linecolor": "white",
            "ticks": ""
           },
           "bgcolor": "#E5ECF6",
           "radialaxis": {
            "gridcolor": "white",
            "linecolor": "white",
            "ticks": ""
           }
          },
          "scene": {
           "xaxis": {
            "backgroundcolor": "#E5ECF6",
            "gridcolor": "white",
            "gridwidth": 2,
            "linecolor": "white",
            "showbackground": true,
            "ticks": "",
            "zerolinecolor": "white"
           },
           "yaxis": {
            "backgroundcolor": "#E5ECF6",
            "gridcolor": "white",
            "gridwidth": 2,
            "linecolor": "white",
            "showbackground": true,
            "ticks": "",
            "zerolinecolor": "white"
           },
           "zaxis": {
            "backgroundcolor": "#E5ECF6",
            "gridcolor": "white",
            "gridwidth": 2,
            "linecolor": "white",
            "showbackground": true,
            "ticks": "",
            "zerolinecolor": "white"
           }
          },
          "shapedefaults": {
           "line": {
            "color": "#2a3f5f"
           }
          },
          "ternary": {
           "aaxis": {
            "gridcolor": "white",
            "linecolor": "white",
            "ticks": ""
           },
           "baxis": {
            "gridcolor": "white",
            "linecolor": "white",
            "ticks": ""
           },
           "bgcolor": "#E5ECF6",
           "caxis": {
            "gridcolor": "white",
            "linecolor": "white",
            "ticks": ""
           }
          },
          "title": {
           "x": 0.05
          },
          "xaxis": {
           "automargin": true,
           "gridcolor": "white",
           "linecolor": "white",
           "ticks": "",
           "title": {
            "standoff": 15
           },
           "zerolinecolor": "white",
           "zerolinewidth": 2
          },
          "yaxis": {
           "automargin": true,
           "gridcolor": "white",
           "linecolor": "white",
           "ticks": "",
           "title": {
            "standoff": 15
           },
           "zerolinecolor": "white",
           "zerolinewidth": 2
          }
         }
        },
        "xaxis": {
         "anchor": "y",
         "autorange": true,
         "domain": [
          0,
          1
         ],
         "range": [
          -0.48215688751138813,
          6.369046796374253
         ],
         "title": {
          "text": "country"
         },
         "type": "category"
        },
        "yaxis": {
         "anchor": "x",
         "autorange": true,
         "domain": [
          0,
          1
         ],
         "range": [
          -3334.97490463664,
          52277.48788251056
         ],
         "title": {
          "text": "NumVisits"
         },
         "type": "linear"
        }
       }
      },
      "image/png": "[encoded data removed]",
      "text/html": [
       "<div>                            <div id=\"660103ad-0800-41b4-ad2e-328ad145fb58\" class=\"plotly-graph-div\" style=\"height:525px; width:100%;\"></div>            <script type=\"text/javascript\">                require([\"plotly\"], function(Plotly) {                    window.PLOTLYENV=window.PLOTLYENV || {};                                    if (document.getElementById(\"660103ad-0800-41b4-ad2e-328ad145fb58\")) {                    Plotly.newPlot(                        \"660103ad-0800-41b4-ad2e-328ad145fb58\",                        [{\"hovertemplate\":\"<b>%{hovertext}</b><br><br>regionName=California<br>country=%{x}<br>NumVisits=%{marker.size}<extra></extra>\",\"hovertext\":[\"United States\",\"United States\",\"United States\",\"United States\"],\"ids\":[\"United States\",\"United States\",\"United States\",\"United States\"],\"legendgroup\":\"California\",\"marker\":{\"color\":\"#636efa\",\"size\":[45500,626,624,587],\"sizemode\":\"area\",\"sizeref\":113.75,\"symbol\":\"circle\"},\"mode\":\"markers\",\"name\":\"California\",\"orientation\":\"v\",\"showlegend\":true,\"type\":\"scatter\",\"x\":[\"United States\",\"United States\",\"United States\",\"United States\"],\"xaxis\":\"x\",\"y\":[45500,626,624,587],\"yaxis\":\"y\"},{\"hovertemplate\":\"<b>%{hovertext}</b><br><br>regionName=Madrid<br>country=%{x}<br>NumVisits=%{marker.size}<extra></extra>\",\"hovertext\":[\"Spain\",\"Spain\",\"Spain\",\"Spain\",\"Spain\",\"Spain\",\"Spain\",\"Spain\",\"Spain\",\"Spain\",\"Spain\",\"Spain\",\"Spain\",\"Spain\"],\"ids\":[\"Spain\",\"Spain\",\"Spain\",\"Spain\",\"Spain\",\"Spain\",\"Spain\",\"Spain\",\"Spain\",\"Spain\",\"Spain\",\"Spain\",\"Spain\",\"Spain\"],\"legendgroup\":\"Madrid\",\"marker\":{\"color\":\"#EF553B\",\"size\":[12259,2460,1006,928,356,343,300,260,256,240,231,226,215,214],\"sizemode\":\"area\",\"sizeref\":113.75,\"symbol\":\"circle\"},\"mode\":\"markers\",\"name\":\"Madrid\",\"orientation\":\"v\",\"showlegend\":true,\"type\":\"scatter\",\"x\":[\"Spain\",\"Spain\",\"Spain\",\"Spain\",\"Spain\",\"Spain\",\"Spain\",\"Spain\",\"Spain\",\"Spain\",\"Spain\",\"Spain\",\"Spain\",\"Spain\"],\"xaxis\":\"x\",\"y\":[12259,2460,1006,928,356,343,300,260,256,240,231,226,215,214],\"yaxis\":\"y\"},{\"hovertemplate\":\"<b>%{hovertext}</b><br><br>regionName=Andalusia<br>country=%{x}<br>NumVisits=%{marker.size}<extra></extra>\",\"hovertext\":[\"Spain\",\"Spain\",\"Spain\",\"Spain\",\"Spain\",\"Spain\",\"Spain\"],\"ids\":[\"Spain\",\"Spain\",\"Spain\",\"Spain\",\"Spain\",\"Spain\",\"Spain\"],\"legendgroup\":\"Andalusia\",\"marker\":{\"color\":\"#00cc96\",\"size\":[4014,897,483,383,263,241,216],\"sizemode\":\"area\",\"sizeref\":113.75,\"symbol\":\"circle\"},\"mode\":\"markers\",\"name\":\"Andalusia\",\"orientation\":\"v\",\"showlegend\":true,\"type\":\"scatter\",\"x\":[\"Spain\",\"Spain\",\"Spain\",\"Spain\",\"Spain\",\"Spain\",\"Spain\"],\"xaxis\":\"x\",\"y\":[4014,897,483,383,263,241,216],\"yaxis\":\"y\"},{\"hovertemplate\":\"<b>%{hovertext}</b><br><br>regionName=Colorado<br>country=%{x}<br>NumVisits=%{marker.size}<extra></extra>\",\"hovertext\":[\"United States\"],\"ids\":[\"United States\"],\"legendgroup\":\"Colorado\",\"marker\":{\"color\":\"#ab63fa\",\"size\":[3426],\"sizemode\":\"area\",\"sizeref\":113.75,\"symbol\":\"circle\"},\"mode\":\"markers\",\"name\":\"Colorado\",\"orientation\":\"v\",\"showlegend\":true,\"type\":\"scatter\",\"x\":[\"United States\"],\"xaxis\":\"x\",\"y\":[3426],\"yaxis\":\"y\"},{\"hovertemplate\":\"<b>%{hovertext}</b><br><br>regionName=New York<br>country=%{x}<br>NumVisits=%{marker.size}<extra></extra>\",\"hovertext\":[\"United States\"],\"ids\":[\"United States\"],\"legendgroup\":\"New York\",\"marker\":{\"color\":\"#FFA15A\",\"size\":[2049],\"sizemode\":\"area\",\"sizeref\":113.75,\"symbol\":\"circle\"},\"mode\":\"markers\",\"name\":\"New York\",\"orientation\":\"v\",\"showlegend\":true,\"type\":\"scatter\",\"x\":[\"United States\"],\"xaxis\":\"x\",\"y\":[2049],\"yaxis\":\"y\"},{\"hovertemplate\":\"<b>%{hovertext}</b><br><br>regionName=Hauts-de-France<br>country=%{x}<br>NumVisits=%{marker.size}<extra></extra>\",\"hovertext\":[\"France\"],\"ids\":[\"France\"],\"legendgroup\":\"Hauts-de-France\",\"marker\":{\"color\":\"#19d3f3\",\"size\":[1044],\"sizemode\":\"area\",\"sizeref\":113.75,\"symbol\":\"circle\"},\"mode\":\"markers\",\"name\":\"Hauts-de-France\",\"orientation\":\"v\",\"showlegend\":true,\"type\":\"scatter\",\"x\":[\"France\"],\"xaxis\":\"x\",\"y\":[1044],\"yaxis\":\"y\"},{\"hovertemplate\":\"<b>%{hovertext}</b><br><br>regionName=Illinois<br>country=%{x}<br>NumVisits=%{marker.size}<extra></extra>\",\"hovertext\":[\"United States\"],\"ids\":[\"United States\"],\"legendgroup\":\"Illinois\",\"marker\":{\"color\":\"#FF6692\",\"size\":[1038],\"sizemode\":\"area\",\"sizeref\":113.75,\"symbol\":\"circle\"},\"mode\":\"markers\",\"name\":\"Illinois\",\"orientation\":\"v\",\"showlegend\":true,\"type\":\"scatter\",\"x\":[\"United States\"],\"xaxis\":\"x\",\"y\":[1038],\"yaxis\":\"y\"},{\"hovertemplate\":\"<b>%{hovertext}</b><br><br>regionName=Texas<br>country=%{x}<br>NumVisits=%{marker.size}<extra></extra>\",\"hovertext\":[\"United States\",\"United States\"],\"ids\":[\"United States\",\"United States\"],\"legendgroup\":\"Texas\",\"marker\":{\"color\":\"#B6E880\",\"size\":[836,810],\"sizemode\":\"area\",\"sizeref\":113.75,\"symbol\":\"circle\"},\"mode\":\"markers\",\"name\":\"Texas\",\"orientation\":\"v\",\"showlegend\":true,\"type\":\"scatter\",\"x\":[\"United States\",\"United States\"],\"xaxis\":\"x\",\"y\":[836,810],\"yaxis\":\"y\"},{\"hovertemplate\":\"<b>%{hovertext}</b><br><br>regionName=Balearic Islands<br>country=%{x}<br>NumVisits=%{marker.size}<extra></extra>\",\"hovertext\":[\"Spain\",\"Spain\",\"Spain\",\"Spain\",\"Spain\",\"Spain\"],\"ids\":[\"Spain\",\"Spain\",\"Spain\",\"Spain\",\"Spain\",\"Spain\"],\"legendgroup\":\"Balearic Islands\",\"marker\":{\"color\":\"#FF97FF\",\"size\":[636,321,276,227,224,213],\"sizemode\":\"area\",\"sizeref\":113.75,\"symbol\":\"circle\"},\"mode\":\"markers\",\"name\":\"Balearic Islands\",\"orientation\":\"v\",\"showlegend\":true,\"type\":\"scatter\",\"x\":[\"Spain\",\"Spain\",\"Spain\",\"Spain\",\"Spain\",\"Spain\"],\"xaxis\":\"x\",\"y\":[636,321,276,227,224,213],\"yaxis\":\"y\"},{\"hovertemplate\":\"<b>%{hovertext}</b><br><br>regionName=Catalonia<br>country=%{x}<br>NumVisits=%{marker.size}<extra></extra>\",\"hovertext\":[\"Spain\",\"Spain\",\"Spain\",\"Spain\",\"Spain\",\"Spain\",\"Spain\"],\"ids\":[\"Spain\",\"Spain\",\"Spain\",\"Spain\",\"Spain\",\"Spain\",\"Spain\"],\"legendgroup\":\"Catalonia\",\"marker\":{\"color\":\"#FECB52\",\"size\":[632,378,373,316,289,205,204],\"sizemode\":\"area\",\"sizeref\":113.75,\"symbol\":\"circle\"},\"mode\":\"markers\",\"name\":\"Catalonia\",\"orientation\":\"v\",\"showlegend\":true,\"type\":\"scatter\",\"x\":[\"Spain\",\"Spain\",\"Spain\",\"Spain\",\"Spain\",\"Spain\",\"Spain\"],\"xaxis\":\"x\",\"y\":[632,378,373,316,289,205,204],\"yaxis\":\"y\"},{\"hovertemplate\":\"<b>%{hovertext}</b><br><br>regionName=Saxony<br>country=%{x}<br>NumVisits=%{marker.size}<extra></extra>\",\"hovertext\":[\"Germany\",\"Germany\",\"Germany\"],\"ids\":[\"Germany\",\"Germany\",\"Germany\"],\"legendgroup\":\"Saxony\",\"marker\":{\"color\":\"#636efa\",\"size\":[516,249,231],\"sizemode\":\"area\",\"sizeref\":113.75,\"symbol\":\"circle\"},\"mode\":\"markers\",\"name\":\"Saxony\",\"orientation\":\"v\",\"showlegend\":true,\"type\":\"scatter\",\"x\":[\"Germany\",\"Germany\",\"Germany\"],\"xaxis\":\"x\",\"y\":[516,249,231],\"yaxis\":\"y\"},{\"hovertemplate\":\"<b>%{hovertext}</b><br><br>regionName=North Holland<br>country=%{x}<br>NumVisits=%{marker.size}<extra></extra>\",\"hovertext\":[\"Netherlands\",\"Netherlands\",\"Netherlands\",\"Netherlands\",\"Netherlands\",\"Netherlands\",\"Netherlands\",\"Netherlands\",\"Netherlands\",\"Netherlands\",\"Netherlands\"],\"ids\":[\"Netherlands\",\"Netherlands\",\"Netherlands\",\"Netherlands\",\"Netherlands\",\"Netherlands\",\"Netherlands\",\"Netherlands\",\"Netherlands\",\"Netherlands\",\"Netherlands\"],\"legendgroup\":\"North Holland\",\"marker\":{\"color\":\"#EF553B\",\"size\":[489,487,471,459,456,452,449,447,437,425,414],\"sizemode\":\"area\",\"sizeref\":113.75,\"symbol\":\"circle\"},\"mode\":\"markers\",\"name\":\"North Holland\",\"orientation\":\"v\",\"showlegend\":true,\"type\":\"scatter\",\"x\":[\"Netherlands\",\"Netherlands\",\"Netherlands\",\"Netherlands\",\"Netherlands\",\"Netherlands\",\"Netherlands\",\"Netherlands\",\"Netherlands\",\"Netherlands\",\"Netherlands\"],\"xaxis\":\"x\",\"y\":[489,487,471,459,456,452,449,447,437,425,414],\"yaxis\":\"y\"},{\"hovertemplate\":\"<b>%{hovertext}</b><br><br>regionName=Castille-La Mancha<br>country=%{x}<br>NumVisits=%{marker.size}<extra></extra>\",\"hovertext\":[\"Spain\"],\"ids\":[\"Spain\"],\"legendgroup\":\"Castille-La Mancha\",\"marker\":{\"color\":\"#00cc96\",\"size\":[459],\"sizemode\":\"area\",\"sizeref\":113.75,\"symbol\":\"circle\"},\"mode\":\"markers\",\"name\":\"Castille-La Mancha\",\"orientation\":\"v\",\"showlegend\":true,\"type\":\"scatter\",\"x\":[\"Spain\"],\"xaxis\":\"x\",\"y\":[459],\"yaxis\":\"y\"},{\"hovertemplate\":\"<b>%{hovertext}</b><br><br>regionName=Virginia<br>country=%{x}<br>NumVisits=%{marker.size}<extra></extra>\",\"hovertext\":[\"United States\",\"United States\",\"United States\"],\"ids\":[\"United States\",\"United States\",\"United States\"],\"legendgroup\":\"Virginia\",\"marker\":{\"color\":\"#ab63fa\",\"size\":[374,335,313],\"sizemode\":\"area\",\"sizeref\":113.75,\"symbol\":\"circle\"},\"mode\":\"markers\",\"name\":\"Virginia\",\"orientation\":\"v\",\"showlegend\":true,\"type\":\"scatter\",\"x\":[\"United States\",\"United States\",\"United States\"],\"xaxis\":\"x\",\"y\":[374,335,313],\"yaxis\":\"y\"},{\"hovertemplate\":\"<b>%{hovertext}</b><br><br>regionName=Valencia<br>country=%{x}<br>NumVisits=%{marker.size}<extra></extra>\",\"hovertext\":[\"Spain\",\"Spain\",\"Spain\"],\"ids\":[\"Spain\",\"Spain\",\"Spain\"],\"legendgroup\":\"Valencia\",\"marker\":{\"color\":\"#FFA15A\",\"size\":[344,287,264],\"sizemode\":\"area\",\"sizeref\":113.75,\"symbol\":\"circle\"},\"mode\":\"markers\",\"name\":\"Valencia\",\"orientation\":\"v\",\"showlegend\":true,\"type\":\"scatter\",\"x\":[\"Spain\",\"Spain\",\"Spain\"],\"xaxis\":\"x\",\"y\":[344,287,264],\"yaxis\":\"y\"},{\"hovertemplate\":\"<b>%{hovertext}</b><br><br>regionName=North Rhine-Westphalia<br>country=%{x}<br>NumVisits=%{marker.size}<extra></extra>\",\"hovertext\":[\"Germany\"],\"ids\":[\"Germany\"],\"legendgroup\":\"North Rhine-Westphalia\",\"marker\":{\"color\":\"#19d3f3\",\"size\":[279],\"sizemode\":\"area\",\"sizeref\":113.75,\"symbol\":\"circle\"},\"mode\":\"markers\",\"name\":\"North Rhine-Westphalia\",\"orientation\":\"v\",\"showlegend\":true,\"type\":\"scatter\",\"x\":[\"Germany\"],\"xaxis\":\"x\",\"y\":[279],\"yaxis\":\"y\"},{\"hovertemplate\":\"<b>%{hovertext}</b><br><br>regionName=Principality of Asturias<br>country=%{x}<br>NumVisits=%{marker.size}<extra></extra>\",\"hovertext\":[\"Spain\",\"Spain\"],\"ids\":[\"Spain\",\"Spain\"],\"legendgroup\":\"Principality of Asturias\",\"marker\":{\"color\":\"#FF6692\",\"size\":[272,217],\"sizemode\":\"area\",\"sizeref\":113.75,\"symbol\":\"circle\"},\"mode\":\"markers\",\"name\":\"Principality of Asturias\",\"orientation\":\"v\",\"showlegend\":true,\"type\":\"scatter\",\"x\":[\"Spain\",\"Spain\"],\"xaxis\":\"x\",\"y\":[272,217],\"yaxis\":\"y\"},{\"hovertemplate\":\"<b>%{hovertext}</b><br><br>regionName=Moscow<br>country=%{x}<br>NumVisits=%{marker.size}<extra></extra>\",\"hovertext\":[\"Russia\"],\"ids\":[\"Russia\"],\"legendgroup\":\"Moscow\",\"marker\":{\"color\":\"#B6E880\",\"size\":[249],\"sizemode\":\"area\",\"sizeref\":113.75,\"symbol\":\"circle\"},\"mode\":\"markers\",\"name\":\"Moscow\",\"orientation\":\"v\",\"showlegend\":true,\"type\":\"scatter\",\"x\":[\"Russia\"],\"xaxis\":\"x\",\"y\":[249],\"yaxis\":\"y\"},{\"hovertemplate\":\"<b>%{hovertext}</b><br><br>regionName=Murcia<br>country=%{x}<br>NumVisits=%{marker.size}<extra></extra>\",\"hovertext\":[\"Spain\"],\"ids\":[\"Spain\"],\"legendgroup\":\"Murcia\",\"marker\":{\"color\":\"#FF97FF\",\"size\":[230],\"sizemode\":\"area\",\"sizeref\":113.75,\"symbol\":\"circle\"},\"mode\":\"markers\",\"name\":\"Murcia\",\"orientation\":\"v\",\"showlegend\":true,\"type\":\"scatter\",\"x\":[\"Spain\"],\"xaxis\":\"x\",\"y\":[230],\"yaxis\":\"y\"},{\"hovertemplate\":\"<b>%{hovertext}</b><br><br>regionName=Navarre<br>country=%{x}<br>NumVisits=%{marker.size}<extra></extra>\",\"hovertext\":[\"Spain\"],\"ids\":[\"Spain\"],\"legendgroup\":\"Navarre\",\"marker\":{\"color\":\"#FECB52\",\"size\":[229],\"sizemode\":\"area\",\"sizeref\":113.75,\"symbol\":\"circle\"},\"mode\":\"markers\",\"name\":\"Navarre\",\"orientation\":\"v\",\"showlegend\":true,\"type\":\"scatter\",\"x\":[\"Spain\"],\"xaxis\":\"x\",\"y\":[229],\"yaxis\":\"y\"},{\"hovertemplate\":\"<b>%{hovertext}</b><br><br>regionName=Lombardy<br>country=%{x}<br>NumVisits=%{marker.size}<extra></extra>\",\"hovertext\":[\"Italy\"],\"ids\":[\"Italy\"],\"legendgroup\":\"Lombardy\",\"marker\":{\"color\":\"#636efa\",\"size\":[229],\"sizemode\":\"area\",\"sizeref\":113.75,\"symbol\":\"circle\"},\"mode\":\"markers\",\"name\":\"Lombardy\",\"orientation\":\"v\",\"showlegend\":true,\"type\":\"scatter\",\"x\":[\"Italy\"],\"xaxis\":\"x\",\"y\":[229],\"yaxis\":\"y\"},{\"hovertemplate\":\"<b>%{hovertext}</b><br><br>regionName=Lazio<br>country=%{x}<br>NumVisits=%{marker.size}<extra></extra>\",\"hovertext\":[\"Italy\"],\"ids\":[\"Italy\"],\"legendgroup\":\"Lazio\",\"marker\":{\"color\":\"#EF553B\",\"size\":[217],\"sizemode\":\"area\",\"sizeref\":113.75,\"symbol\":\"circle\"},\"mode\":\"markers\",\"name\":\"Lazio\",\"orientation\":\"v\",\"showlegend\":true,\"type\":\"scatter\",\"x\":[\"Italy\"],\"xaxis\":\"x\",\"y\":[217],\"yaxis\":\"y\"}],                        {\"legend\":{\"itemsizing\":\"constant\",\"title\":{\"text\":\"regionName\"},\"tracegroupgap\":0},\"margin\":{\"t\":60},\"template\":{\"data\":{\"bar\":[{\"error_x\":{\"color\":\"#2a3f5f\"},\"error_y\":{\"color\":\"#2a3f5f\"},\"marker\":{\"line\":{\"color\":\"#E5ECF6\",\"width\":0.5},\"pattern\":{\"fillmode\":\"overlay\",\"size\":10,\"solidity\":0.2}},\"type\":\"bar\"}],\"barpolar\":[{\"marker\":{\"line\":{\"color\":\"#E5ECF6\",\"width\":0.5},\"pattern\":{\"fillmode\":\"overlay\",\"size\":10,\"solidity\":0.2}},\"type\":\"barpolar\"}],\"carpet\":[{\"aaxis\":{\"endlinecolor\":\"#2a3f5f\",\"gridcolor\":\"white\",\"linecolor\":\"white\",\"minorgridcolor\":\"white\",\"startlinecolor\":\"#2a3f5f\"},\"baxis\":{\"endlinecolor\":\"#2a3f5f\",\"gridcolor\":\"white\",\"linecolor\":\"white\",\"minorgridcolor\":\"white\",\"startlinecolor\":\"#2a3f5f\"},\"type\":\"carpet\"}],\"choropleth\":[{\"colorbar\":{\"outlinewidth\":0,\"ticks\":\"\"},\"type\":\"choropleth\"}],\"contour\":[{\"colorbar\":{\"outlinewidth\":0,\"ticks\":\"\"},\"colorscale\":[[0.0,\"#0d0887\"],[0.1111111111111111,\"#46039f\"],[0.2222222222222222,\"#7201a8\"],[0.3333333333333333,\"#9c179e\"],[0.4444444444444444,\"#bd3786\"],[0.5555555555555556,\"#d8576b\"],[0.6666666666666666,\"#ed7953\"],[0.7777777777777778,\"#fb9f3a\"],[0.8888888888888888,\"#fdca26\"],[1.0,\"#f0f921\"]],\"type\":\"contour\"}],\"contourcarpet\":[{\"colorbar\":{\"outlinewidth\":0,\"ticks\":\"\"},\"type\":\"contourcarpet\"}],\"heatmap\":[{\"colorbar\":{\"outlinewidth\":0,\"ticks\":\"\"},\"colorscale\":[[0.0,\"#0d0887\"],[0.1111111111111111,\"#46039f\"],[0.2222222222222222,\"#7201a8\"],[0.3333333333333333,\"#9c179e\"],[0.4444444444444444,\"#bd3786\"],[0.5555555555555556,\"#d8576b\"],[0.6666666666666666,\"#ed7953\"],[0.7777777777777778,\"#fb9f3a\"],[0.8888888888888888,\"#fdca26\"],[1.0,\"#f0f921\"]],\"type\":\"heatmap\"}],\"heatmapgl\":[{\"colorbar\":{\"outlinewidth\":0,\"ticks\":\"\"},\"colorscale\":[[0.0,\"#0d0887\"],[0.1111111111111111,\"#46039f\"],[0.2222222222222222,\"#7201a8\"],[0.3333333333333333,\"#9c179e\"],[0.4444444444444444,\"#bd3786\"],[0.5555555555555556,\"#d8576b\"],[0.6666666666666666,\"#ed7953\"],[0.7777777777777778,\"#fb9f3a\"],[0.8888888888888888,\"#fdca26\"],[1.0,\"#f0f921\"]],\"type\":\"heatmapgl\"}],\"histogram\":[{\"marker\":{\"pattern\":{\"fillmode\":\"overlay\",\"size\":10,\"solidity\":0.2}},\"type\":\"histogram\"}],\"histogram2d\":[{\"colorbar\":{\"outlinewidth\":0,\"ticks\":\"\"},\"colorscale\":[[0.0,\"#0d0887\"],[0.1111111111111111,\"#46039f\"],[0.2222222222222222,\"#7201a8\"],[0.3333333333333333,\"#9c179e\"],[0.4444444444444444,\"#bd3786\"],[0.5555555555555556,\"#d8576b\"],[0.6666666666666666,\"#ed7953\"],[0.7777777777777778,\"#fb9f3a\"],[0.8888888888888888,\"#fdca26\"],[1.0,\"#f0f921\"]],\"type\":\"histogram2d\"}],\"histogram2dcontour\":[{\"colorbar\":{\"outlinewidth\":0,\"ticks\":\"\"},\"colorscale\":[[0.0,\"#0d0887\"],[0.1111111111111111,\"#46039f\"],[0.2222222222222222,\"#7201a8\"],[0.3333333333333333,\"#9c179e\"],[0.4444444444444444,\"#bd3786\"],[0.5555555555555556,\"#d8576b\"],[0.6666666666666666,\"#ed7953\"],[0.7777777777777778,\"#fb9f3a\"],[0.8888888888888888,\"#fdca26\"],[1.0,\"#f0f921\"]],\"type\":\"histogram2dcontour\"}],\"mesh3d\":[{\"colorbar\":{\"outlinewidth\":0,\"ticks\":\"\"},\"type\":\"mesh3d\"}],\"parcoords\":[{\"line\":{\"colorbar\":{\"outlinewidth\":0,\"ticks\":\"\"}},\"type\":\"parcoords\"}],\"pie\":[{\"automargin\":true,\"type\":\"pie\"}],\"scatter\":[{\"marker\":{\"colorbar\":{\"outlinewidth\":0,\"ticks\":\"\"}},\"type\":\"scatter\"}],\"scatter3d\":[{\"line\":{\"colorbar\":{\"outlinewidth\":0,\"ticks\":\"\"}},\"marker\":{\"colorbar\":{\"outlinewidth\":0,\"ticks\":\"\"}},\"type\":\"scatter3d\"}],\"scattercarpet\":[{\"marker\":{\"colorbar\":{\"outlinewidth\":0,\"ticks\":\"\"}},\"type\":\"scattercarpet\"}],\"scattergeo\":[{\"marker\":{\"colorbar\":{\"outlinewidth\":0,\"ticks\":\"\"}},\"type\":\"scattergeo\"}],\"scattergl\":[{\"marker\":{\"colorbar\":{\"outlinewidth\":0,\"ticks\":\"\"}},\"type\":\"scattergl\"}],\"scattermapbox\":[{\"marker\":{\"colorbar\":{\"outlinewidth\":0,\"ticks\":\"\"}},\"type\":\"scattermapbox\"}],\"scatterpolar\":[{\"marker\":{\"colorbar\":{\"outlinewidth\":0,\"ticks\":\"\"}},\"type\":\"scatterpolar\"}],\"scatterpolargl\":[{\"marker\":{\"colorbar\":{\"outlinewidth\":0,\"ticks\":\"\"}},\"type\":\"scatterpolargl\"}],\"scatterternary\":[{\"marker\":{\"colorbar\":{\"outlinewidth\":0,\"ticks\":\"\"}},\"type\":\"scatterternary\"}],\"surface\":[{\"colorbar\":{\"outlinewidth\":0,\"ticks\":\"\"},\"colorscale\":[[0.0,\"#0d0887\"],[0.1111111111111111,\"#46039f\"],[0.2222222222222222,\"#7201a8\"],[0.3333333333333333,\"#9c179e\"],[0.4444444444444444,\"#bd3786\"],[0.5555555555555556,\"#d8576b\"],[0.6666666666666666,\"#ed7953\"],[0.7777777777777778,\"#fb9f3a\"],[0.8888888888888888,\"#fdca26\"],[1.0,\"#f0f921\"]],\"type\":\"surface\"}],\"table\":[{\"cells\":{\"fill\":{\"color\":\"#EBF0F8\"},\"line\":{\"color\":\"white\"}},\"header\":{\"fill\":{\"color\":\"#C8D4E3\"},\"line\":{\"color\":\"white\"}},\"type\":\"table\"}]},\"layout\":{\"annotationdefaults\":{\"arrowcolor\":\"#2a3f5f\",\"arrowhead\":0,\"arrowwidth\":1},\"autotypenumbers\":\"strict\",\"coloraxis\":{\"colorbar\":{\"outlinewidth\":0,\"ticks\":\"\"}},\"colorscale\":{\"diverging\":[[0,\"#8e0152\"],[0.1,\"#c51b7d\"],[0.2,\"#de77ae\"],[0.3,\"#f1b6da\"],[0.4,\"#fde0ef\"],[0.5,\"#f7f7f7\"],[0.6,\"#e6f5d0\"],[0.7,\"#b8e186\"],[0.8,\"#7fbc41\"],[0.9,\"#4d9221\"],[1,\"#276419\"]],\"sequential\":[[0.0,\"#0d0887\"],[0.1111111111111111,\"#46039f\"],[0.2222222222222222,\"#7201a8\"],[0.3333333333333333,\"#9c179e\"],[0.4444444444444444,\"#bd3786\"],[0.5555555555555556,\"#d8576b\"],[0.6666666666666666,\"#ed7953\"],[0.7777777777777778,\"#fb9f3a\"],[0.8888888888888888,\"#fdca26\"],[1.0,\"#f0f921\"]],\"sequentialminus\":[[0.0,\"#0d0887\"],[0.1111111111111111,\"#46039f\"],[0.2222222222222222,\"#7201a8\"],[0.3333333333333333,\"#9c179e\"],[0.4444444444444444,\"#bd3786\"],[0.5555555555555556,\"#d8576b\"],[0.6666666666666666,\"#ed7953\"],[0.7777777777777778,\"#fb9f3a\"],[0.8888888888888888,\"#fdca26\"],[1.0,\"#f0f921\"]]},\"colorway\":[\"#636efa\",\"#EF553B\",\"#00cc96\",\"#ab63fa\",\"#FFA15A\",\"#19d3f3\",\"#FF6692\",\"#B6E880\",\"#FF97FF\",\"#FECB52\"],\"font\":{\"color\":\"#2a3f5f\"},\"geo\":{\"bgcolor\":\"white\",\"lakecolor\":\"white\",\"landcolor\":\"#E5ECF6\",\"showlakes\":true,\"showland\":true,\"subunitcolor\":\"white\"},\"hoverlabel\":{\"align\":\"left\"},\"hovermode\":\"closest\",\"mapbox\":{\"style\":\"light\"},\"paper_bgcolor\":\"white\",\"plot_bgcolor\":\"#E5ECF6\",\"polar\":{\"angularaxis\":{\"gridcolor\":\"white\",\"linecolor\":\"white\",\"ticks\":\"\"},\"bgcolor\":\"#E5ECF6\",\"radialaxis\":{\"gridcolor\":\"white\",\"linecolor\":\"white\",\"ticks\":\"\"}},\"scene\":{\"xaxis\":{\"backgroundcolor\":\"#E5ECF6\",\"gridcolor\":\"white\",\"gridwidth\":2,\"linecolor\":\"white\",\"showbackground\":true,\"ticks\":\"\",\"zerolinecolor\":\"white\"},\"yaxis\":{\"backgroundcolor\":\"#E5ECF6\",\"gridcolor\":\"white\",\"gridwidth\":2,\"linecolor\":\"white\",\"showbackground\":true,\"ticks\":\"\",\"zerolinecolor\":\"white\"},\"zaxis\":{\"backgroundcolor\":\"#E5ECF6\",\"gridcolor\":\"white\",\"gridwidth\":2,\"linecolor\":\"white\",\"showbackground\":true,\"ticks\":\"\",\"zerolinecolor\":\"white\"}},\"shapedefaults\":{\"line\":{\"color\":\"#2a3f5f\"}},\"ternary\":{\"aaxis\":{\"gridcolor\":\"white\",\"linecolor\":\"white\",\"ticks\":\"\"},\"baxis\":{\"gridcolor\":\"white\",\"linecolor\":\"white\",\"ticks\":\"\"},\"bgcolor\":\"#E5ECF6\",\"caxis\":{\"gridcolor\":\"white\",\"linecolor\":\"white\",\"ticks\":\"\"}},\"title\":{\"x\":0.05},\"xaxis\":{\"automargin\":true,\"gridcolor\":\"white\",\"linecolor\":\"white\",\"ticks\":\"\",\"title\":{\"standoff\":15},\"zerolinecolor\":\"white\",\"zerolinewidth\":2},\"yaxis\":{\"automargin\":true,\"gridcolor\":\"white\",\"linecolor\":\"white\",\"ticks\":\"\",\"title\":{\"standoff\":15},\"zerolinecolor\":\"white\",\"zerolinewidth\":2}}},\"xaxis\":{\"anchor\":\"y\",\"domain\":[0.0,1.0],\"title\":{\"text\":\"country\"}},\"yaxis\":{\"anchor\":\"x\",\"domain\":[0.0,1.0],\"title\":{\"text\":\"NumVisits\"}}},                        {\"responsive\": true}                    ).then(function(){\n",
       "                            \n",
       "var gd = document.getElementById('660103ad-0800-41b4-ad2e-328ad145fb58');\n",
       "var x = new MutationObserver(function (mutations, observer) {{\n",
       "        var display = window.getComputedStyle(gd).display;\n",
       "        if (!display || display === 'none') {{\n",
       "            console.log([gd, 'removed!']);\n",
       "            Plotly.purge(gd);\n",
       "            observer.disconnect();\n",
       "        }}\n",
       "}});\n",
       "\n",
       "// Listen for the removal of the full notebook cells\n",
       "var notebookContainer = gd.closest('#notebook-container');\n",
       "if (notebookContainer) {{\n",
       "    x.observe(notebookContainer, {childList: true});\n",
       "}}\n",
       "\n",
       "// Listen for the clearing of the current output cell\n",
       "var outputEl = gd.closest('.output');\n",
       "if (outputEl) {{\n",
       "    x.observe(outputEl, {childList: true});\n",
       "}}\n",
       "\n",
       "                        })                };                });            </script>        </div>"
      ]
     },
     "metadata": {},
     "output_type": "display_data"
    }
   ],
   "source": [
    "import plotly.express as px\n",
    "fig= px.scatter(df_geo_NumVisits, x=\"country\", y=\"NumVisits\", animation_group=\"country\",size=\"NumVisits\", color=\"regionName\", hover_name=\"country\")\n",
    "fig.show()\n",
    "fig.write_html(\"Grafico1_Visitas_Country_Region.html\")"
   ]
  },
  {
   "cell_type": "markdown",
   "id": "883bd1f0-e6a6-4b4f-bf51-f8ba052ec27a",
   "metadata": {},
   "source": [
    "###### Como se observa en el gráfico dinámico, las ip con mayores accesos o \"visitas\" se corresponden con United States y Spain, que concentran el 59,60% de las visitas de las ip >200 "
   ]
  },
  {
   "cell_type": "code",
   "execution_count": 273,
   "id": "ffe1220a-d495-4cc4-9d29-2369ba97c8a4",
   "metadata": {},
   "outputs": [
    {
     "data": {
      "text/html": [
       "<div>\n",
       "<style scoped>\n",
       "    .dataframe tbody tr th:only-of-type {\n",
       "        vertical-align: middle;\n",
       "    }\n",
       "\n",
       "    .dataframe tbody tr th {\n",
       "        vertical-align: top;\n",
       "    }\n",
       "\n",
       "    .dataframe thead th {\n",
       "        text-align: right;\n",
       "    }\n",
       "</style>\n",
       "<table border=\"1\" class=\"dataframe\">\n",
       "  <thead>\n",
       "    <tr style=\"text-align: right;\">\n",
       "      <th></th>\n",
       "      <th>lat</th>\n",
       "      <th>lon</th>\n",
       "    </tr>\n",
       "  </thead>\n",
       "  <tbody>\n",
       "    <tr>\n",
       "      <th>0</th>\n",
       "      <td>37.4220</td>\n",
       "      <td>-122.08400</td>\n",
       "    </tr>\n",
       "    <tr>\n",
       "      <th>1</th>\n",
       "      <td>40.5167</td>\n",
       "      <td>-3.66479</td>\n",
       "    </tr>\n",
       "    <tr>\n",
       "      <th>2</th>\n",
       "      <td>37.6025</td>\n",
       "      <td>-5.73070</td>\n",
       "    </tr>\n",
       "    <tr>\n",
       "      <th>3</th>\n",
       "      <td>39.6663</td>\n",
       "      <td>-104.83430</td>\n",
       "    </tr>\n",
       "    <tr>\n",
       "      <th>4</th>\n",
       "      <td>40.4163</td>\n",
       "      <td>-3.69340</td>\n",
       "    </tr>\n",
       "  </tbody>\n",
       "</table>\n",
       "</div>"
      ],
      "text/plain": [
       "       lat        lon\n",
       "0  37.4220 -122.08400\n",
       "1  40.5167   -3.66479\n",
       "2  37.6025   -5.73070\n",
       "3  39.6663 -104.83430\n",
       "4  40.4163   -3.69340"
      ]
     },
     "execution_count": 273,
     "metadata": {},
     "output_type": "execute_result"
    }
   ],
   "source": [
    "dfg_m =pd.DataFrame(df_grafico, columns=[\"lat\",\"lon\"]).copy()\n",
    "dfg_m.head(5)"
   ]
  },
  {
   "cell_type": "markdown",
   "id": "0d8723f5-0d21-49e0-bd6b-8a9626abc8c6",
   "metadata": {},
   "source": [
    "##### 3.1.4 Gráfico 2: Localización geográfica de las ip´s con \"visitas\">200"
   ]
  },
  {
   "cell_type": "code",
   "execution_count": 274,
   "id": "bcfccfc6-bd41-4ef2-a3cd-2dd8eea5e936",
   "metadata": {},
   "outputs": [
    {
     "data": {
      "text/html": [
       "<div style=\"width:100%;\"><div style=\"position:relative;width:100%;height:0;padding-bottom:60%;\"><span style=\"color:#565656\">Make this Notebook Trusted to load map: File -> Trust Notebook</span><iframe srcdoc=\"&lt;!DOCTYPE html&gt;\n",
       "&lt;head&gt;    \n",
       "    &lt;meta http-equiv=&quot;content-type&quot; content=&quot;text/html; charset=UTF-8&quot; /&gt;\n",
       "    \n",
       "        &lt;script&gt;\n",
       "            L_NO_TOUCH = false;\n",
       "            L_DISABLE_3D = false;\n",
       "        &lt;/script&gt;\n",
       "    \n",
       "    &lt;style&gt;html, body {width: 100%;height: 100%;margin: 0;padding: 0;}&lt;/style&gt;\n",
       "    &lt;style&gt;#map {position:absolute;top:0;bottom:0;right:0;left:0;}&lt;/style&gt;\n",
       "    &lt;script src=&quot;https://cdn.jsdelivr.net/npm/leaflet@1.6.0/dist/leaflet.js&quot;&gt;&lt;/script&gt;\n",
       "    &lt;script src=&quot;https://code.jquery.com/jquery-1.12.4.min.js&quot;&gt;&lt;/script&gt;\n",
       "    &lt;script src=&quot;https://maxcdn.bootstrapcdn.com/bootstrap/3.2.0/js/bootstrap.min.js&quot;&gt;&lt;/script&gt;\n",
       "    &lt;script src=&quot;https://cdnjs.cloudflare.com/ajax/libs/Leaflet.awesome-markers/2.0.2/leaflet.awesome-markers.js&quot;&gt;&lt;/script&gt;\n",
       "    &lt;link rel=&quot;stylesheet&quot; href=&quot;https://cdn.jsdelivr.net/npm/leaflet@1.6.0/dist/leaflet.css&quot;/&gt;\n",
       "    &lt;link rel=&quot;stylesheet&quot; href=&quot;https://maxcdn.bootstrapcdn.com/bootstrap/3.2.0/css/bootstrap.min.css&quot;/&gt;\n",
       "    &lt;link rel=&quot;stylesheet&quot; href=&quot;https://maxcdn.bootstrapcdn.com/bootstrap/3.2.0/css/bootstrap-theme.min.css&quot;/&gt;\n",
       "    &lt;link rel=&quot;stylesheet&quot; href=&quot;https://maxcdn.bootstrapcdn.com/font-awesome/4.6.3/css/font-awesome.min.css&quot;/&gt;\n",
       "    &lt;link rel=&quot;stylesheet&quot; href=&quot;https://cdnjs.cloudflare.com/ajax/libs/Leaflet.awesome-markers/2.0.2/leaflet.awesome-markers.css&quot;/&gt;\n",
       "    &lt;link rel=&quot;stylesheet&quot; href=&quot;https://cdn.jsdelivr.net/gh/python-visualization/folium/folium/templates/leaflet.awesome.rotate.min.css&quot;/&gt;\n",
       "    \n",
       "            &lt;meta name=&quot;viewport&quot; content=&quot;width=device-width,\n",
       "                initial-scale=1.0, maximum-scale=1.0, user-scalable=no&quot; /&gt;\n",
       "            &lt;style&gt;\n",
       "                #map_7605a6ff7af1722d0fc6182636e4fb0b {\n",
       "                    position: relative;\n",
       "                    width: 100.0%;\n",
       "                    height: 100.0%;\n",
       "                    left: 0.0%;\n",
       "                    top: 0.0%;\n",
       "                }\n",
       "            &lt;/style&gt;\n",
       "        \n",
       "    &lt;script src=&quot;https://cdnjs.cloudflare.com/ajax/libs/leaflet.markercluster/1.1.0/leaflet.markercluster.js&quot;&gt;&lt;/script&gt;\n",
       "    &lt;link rel=&quot;stylesheet&quot; href=&quot;https://cdnjs.cloudflare.com/ajax/libs/leaflet.markercluster/1.1.0/MarkerCluster.css&quot;/&gt;\n",
       "    &lt;link rel=&quot;stylesheet&quot; href=&quot;https://cdnjs.cloudflare.com/ajax/libs/leaflet.markercluster/1.1.0/MarkerCluster.Default.css&quot;/&gt;\n",
       "&lt;/head&gt;\n",
       "&lt;body&gt;    \n",
       "    \n",
       "            &lt;div class=&quot;folium-map&quot; id=&quot;map_7605a6ff7af1722d0fc6182636e4fb0b&quot; &gt;&lt;/div&gt;\n",
       "        \n",
       "&lt;/body&gt;\n",
       "&lt;script&gt;    \n",
       "    \n",
       "            var map_7605a6ff7af1722d0fc6182636e4fb0b = L.map(\n",
       "                &quot;map_7605a6ff7af1722d0fc6182636e4fb0b&quot;,\n",
       "                {\n",
       "                    center: [40.4163, -3.6934],\n",
       "                    crs: L.CRS.EPSG3857,\n",
       "                    zoom: 10,\n",
       "                    zoomControl: true,\n",
       "                    preferCanvas: false,\n",
       "                }\n",
       "            );\n",
       "\n",
       "            \n",
       "\n",
       "        \n",
       "    \n",
       "            var tile_layer_dc0eb1a1faaf20b8034780878f139fe8 = L.tileLayer(\n",
       "                &quot;https://{s}.tile.openstreetmap.org/{z}/{x}/{y}.png&quot;,\n",
       "                {&quot;attribution&quot;: &quot;Data by \\u0026copy; \\u003ca href=\\&quot;http://openstreetmap.org\\&quot;\\u003eOpenStreetMap\\u003c/a\\u003e, under \\u003ca href=\\&quot;http://www.openstreetmap.org/copyright\\&quot;\\u003eODbL\\u003c/a\\u003e.&quot;, &quot;detectRetina&quot;: false, &quot;maxNativeZoom&quot;: 18, &quot;maxZoom&quot;: 18, &quot;minZoom&quot;: 0, &quot;noWrap&quot;: false, &quot;opacity&quot;: 1, &quot;subdomains&quot;: &quot;abc&quot;, &quot;tms&quot;: false}\n",
       "            ).addTo(map_7605a6ff7af1722d0fc6182636e4fb0b);\n",
       "        \n",
       "    \n",
       "            var marker_cluster_4fbda8b6cb776c25019a1731bc7c26f2 = L.markerClusterGroup(\n",
       "                {&quot;Show&quot;: true}\n",
       "            );\n",
       "            map_7605a6ff7af1722d0fc6182636e4fb0b.addLayer(marker_cluster_4fbda8b6cb776c25019a1731bc7c26f2);\n",
       "        \n",
       "    \n",
       "            var marker_88399b15b8c8f124f3513f0b0af7d317 = L.marker(\n",
       "                [37.422, -122.084],\n",
       "                {}\n",
       "            ).addTo(marker_cluster_4fbda8b6cb776c25019a1731bc7c26f2);\n",
       "        \n",
       "    \n",
       "            var marker_c69ab1762298723a1479f1b3944653d6 = L.marker(\n",
       "                [40.5167, -3.66479],\n",
       "                {}\n",
       "            ).addTo(marker_cluster_4fbda8b6cb776c25019a1731bc7c26f2);\n",
       "        \n",
       "    \n",
       "            var marker_90d4505a56533e5e30f4591ab41848ac = L.marker(\n",
       "                [37.6025, -5.7307],\n",
       "                {}\n",
       "            ).addTo(marker_cluster_4fbda8b6cb776c25019a1731bc7c26f2);\n",
       "        \n",
       "    \n",
       "            var marker_9494d4414a7369809741d7c39064cf50 = L.marker(\n",
       "                [39.6663, -104.8343],\n",
       "                {}\n",
       "            ).addTo(marker_cluster_4fbda8b6cb776c25019a1731bc7c26f2);\n",
       "        \n",
       "    \n",
       "            var marker_c8d7cd46c0e31bde515e5eb6fd979a40 = L.marker(\n",
       "                [40.4163, -3.6934],\n",
       "                {}\n",
       "            ).addTo(marker_cluster_4fbda8b6cb776c25019a1731bc7c26f2);\n",
       "        \n",
       "    \n",
       "            var marker_b3e387b971abfb213e78708c67221079 = L.marker(\n",
       "                [40.7597, -73.981],\n",
       "                {}\n",
       "            ).addTo(marker_cluster_4fbda8b6cb776c25019a1731bc7c26f2);\n",
       "        \n",
       "    \n",
       "            var marker_f07f5e9936340302bc6470c78e90195e = L.marker(\n",
       "                [50.6917, 3.20157],\n",
       "                {}\n",
       "            ).addTo(marker_cluster_4fbda8b6cb776c25019a1731bc7c26f2);\n",
       "        \n",
       "    \n",
       "            var marker_12bc3af33db158f779d1f3d1beb75cf2 = L.marker(\n",
       "                [41.8786, -87.6311],\n",
       "                {}\n",
       "            ).addTo(marker_cluster_4fbda8b6cb776c25019a1731bc7c26f2);\n",
       "        \n",
       "    \n",
       "            var marker_f9c44dfbe5ffc5ca05aec918c8b6bfd6 = L.marker(\n",
       "                [40.4163, -3.6934],\n",
       "                {}\n",
       "            ).addTo(marker_cluster_4fbda8b6cb776c25019a1731bc7c26f2);\n",
       "        \n",
       "    \n",
       "            var marker_d52eed3f4f283da974fea3b9764f61dd = L.marker(\n",
       "                [40.5167, -3.66479],\n",
       "                {}\n",
       "            ).addTo(marker_cluster_4fbda8b6cb776c25019a1731bc7c26f2);\n",
       "        \n",
       "    \n",
       "            var marker_70e03b970306ddf05c29df86e1989326 = L.marker(\n",
       "                [37.7746, -3.7787],\n",
       "                {}\n",
       "            ).addTo(marker_cluster_4fbda8b6cb776c25019a1731bc7c26f2);\n",
       "        \n",
       "    \n",
       "            var marker_0404e75345bd556f2f022949bc959e09 = L.marker(\n",
       "                [32.7767, -96.805],\n",
       "                {}\n",
       "            ).addTo(marker_cluster_4fbda8b6cb776c25019a1731bc7c26f2);\n",
       "        \n",
       "    \n",
       "            var marker_70d8b1f26b20ec64665a68b854188a8b = L.marker(\n",
       "                [32.7767, -96.805],\n",
       "                {}\n",
       "            ).addTo(marker_cluster_4fbda8b6cb776c25019a1731bc7c26f2);\n",
       "        \n",
       "    \n",
       "            var marker_edf386b0d3e198d2a25d30dc48cf0197 = L.marker(\n",
       "                [39.5661, 2.6487],\n",
       "                {}\n",
       "            ).addTo(marker_cluster_4fbda8b6cb776c25019a1731bc7c26f2);\n",
       "        \n",
       "    \n",
       "            var marker_85b1cfd607be8fb8f3906242bf1d3748 = L.marker(\n",
       "                [41.387, 2.1701],\n",
       "                {}\n",
       "            ).addTo(marker_cluster_4fbda8b6cb776c25019a1731bc7c26f2);\n",
       "        \n",
       "    \n",
       "            var marker_abba93d105b41cfa8cd086bad39c9954 = L.marker(\n",
       "                [37.422, -122.084],\n",
       "                {}\n",
       "            ).addTo(marker_cluster_4fbda8b6cb776c25019a1731bc7c26f2);\n",
       "        \n",
       "    \n",
       "            var marker_31677f6c8f9d9b68a5b81e7421a51eb9 = L.marker(\n",
       "                [37.422, -122.084],\n",
       "                {}\n",
       "            ).addTo(marker_cluster_4fbda8b6cb776c25019a1731bc7c26f2);\n",
       "        \n",
       "    \n",
       "            var marker_67ef25f6835e7de48a66e629f9b462f1 = L.marker(\n",
       "                [37.422, -122.084],\n",
       "                {}\n",
       "            ).addTo(marker_cluster_4fbda8b6cb776c25019a1731bc7c26f2);\n",
       "        \n",
       "    \n",
       "            var marker_5158f59b4b313ac4c152a263f84ab643 = L.marker(\n",
       "                [50.475, 12.365],\n",
       "                {}\n",
       "            ).addTo(marker_cluster_4fbda8b6cb776c25019a1731bc7c26f2);\n",
       "        \n",
       "    \n",
       "            var marker_62bc557b5b287e7e574d2fd1deb4ceda = L.marker(\n",
       "                [52.3759, 4.8975],\n",
       "                {}\n",
       "            ).addTo(marker_cluster_4fbda8b6cb776c25019a1731bc7c26f2);\n",
       "        \n",
       "    \n",
       "            var marker_c0649ecc64dcb9955e8c2de45d690cf5 = L.marker(\n",
       "                [52.3759, 4.8975],\n",
       "                {}\n",
       "            ).addTo(marker_cluster_4fbda8b6cb776c25019a1731bc7c26f2);\n",
       "        \n",
       "    \n",
       "            var marker_704dcaba50cacd09248e317118067456 = L.marker(\n",
       "                [37.5104, -6.0235],\n",
       "                {}\n",
       "            ).addTo(marker_cluster_4fbda8b6cb776c25019a1731bc7c26f2);\n",
       "        \n",
       "    \n",
       "            var marker_81d352b5c8cb6d7b0a7cf13e54bdac3d = L.marker(\n",
       "                [52.3759, 4.8975],\n",
       "                {}\n",
       "            ).addTo(marker_cluster_4fbda8b6cb776c25019a1731bc7c26f2);\n",
       "        \n",
       "    \n",
       "            var marker_242a81fe4bb11bd0be430fdf03a6746b = L.marker(\n",
       "                [52.3759, 4.8975],\n",
       "                {}\n",
       "            ).addTo(marker_cluster_4fbda8b6cb776c25019a1731bc7c26f2);\n",
       "        \n",
       "    \n",
       "            var marker_a28cf62a2331e167b13b170277dc09e7 = L.marker(\n",
       "                [38.8731, -1.0921],\n",
       "                {}\n",
       "            ).addTo(marker_cluster_4fbda8b6cb776c25019a1731bc7c26f2);\n",
       "        \n",
       "    \n",
       "            var marker_85d676c7247d5c558cb473753a43cad7 = L.marker(\n",
       "                [52.3759, 4.8975],\n",
       "                {}\n",
       "            ).addTo(marker_cluster_4fbda8b6cb776c25019a1731bc7c26f2);\n",
       "        \n",
       "    \n",
       "            var marker_01ce565b7d1d3f06eccb6aa6ef003816 = L.marker(\n",
       "                [52.3759, 4.8975],\n",
       "                {}\n",
       "            ).addTo(marker_cluster_4fbda8b6cb776c25019a1731bc7c26f2);\n",
       "        \n",
       "    \n",
       "            var marker_b8d57af6c2c5dfb70213f21286992089 = L.marker(\n",
       "                [52.3759, 4.8975],\n",
       "                {}\n",
       "            ).addTo(marker_cluster_4fbda8b6cb776c25019a1731bc7c26f2);\n",
       "        \n",
       "    \n",
       "            var marker_089a539178414c09fe726644682f6377 = L.marker(\n",
       "                [52.3759, 4.8975],\n",
       "                {}\n",
       "            ).addTo(marker_cluster_4fbda8b6cb776c25019a1731bc7c26f2);\n",
       "        \n",
       "    \n",
       "            var marker_c4cefcc344e3ad151ad1775405d38081 = L.marker(\n",
       "                [52.3759, 4.8975],\n",
       "                {}\n",
       "            ).addTo(marker_cluster_4fbda8b6cb776c25019a1731bc7c26f2);\n",
       "        \n",
       "    \n",
       "            var marker_213ac0e0ed16db5fefc1a50f68556f37 = L.marker(\n",
       "                [52.3759, 4.8975],\n",
       "                {}\n",
       "            ).addTo(marker_cluster_4fbda8b6cb776c25019a1731bc7c26f2);\n",
       "        \n",
       "    \n",
       "            var marker_2cb6f9e950aeb403fb3f25857cb29493 = L.marker(\n",
       "                [52.3759, 4.8975],\n",
       "                {}\n",
       "            ).addTo(marker_cluster_4fbda8b6cb776c25019a1731bc7c26f2);\n",
       "        \n",
       "    \n",
       "            var marker_1b7131c5a032af5edf827ebd67098362 = L.marker(\n",
       "                [37.7019, -5.2796],\n",
       "                {}\n",
       "            ).addTo(marker_cluster_4fbda8b6cb776c25019a1731bc7c26f2);\n",
       "        \n",
       "    \n",
       "            var marker_8514ce3309226bb2f5a9c7328cea3e2f = L.marker(\n",
       "                [41.6684, 2.4021],\n",
       "                {}\n",
       "            ).addTo(marker_cluster_4fbda8b6cb776c25019a1731bc7c26f2);\n",
       "        \n",
       "    \n",
       "            var marker_cd2c7d6ec1a1d807ad0b7c034c212b8b = L.marker(\n",
       "                [39.0438, -77.4874],\n",
       "                {}\n",
       "            ).addTo(marker_cluster_4fbda8b6cb776c25019a1731bc7c26f2);\n",
       "        \n",
       "    \n",
       "            var marker_c28cd9162ee7831dfa3b17063373de50 = L.marker(\n",
       "                [41.3833, 2.0469],\n",
       "                {}\n",
       "            ).addTo(marker_cluster_4fbda8b6cb776c25019a1731bc7c26f2);\n",
       "        \n",
       "    \n",
       "            var marker_dc55cc1fff9acfb23f946ec87d4e5a07 = L.marker(\n",
       "                [40.4163, -3.6934],\n",
       "                {}\n",
       "            ).addTo(marker_cluster_4fbda8b6cb776c25019a1731bc7c26f2);\n",
       "        \n",
       "    \n",
       "            var marker_e874f3d4ae3090d369e62de5607c537e = L.marker(\n",
       "                [40.4693, 0.479],\n",
       "                {}\n",
       "            ).addTo(marker_cluster_4fbda8b6cb776c25019a1731bc7c26f2);\n",
       "        \n",
       "    \n",
       "            var marker_91381edea8901248c2df9db9d7b82ea4 = L.marker(\n",
       "                [40.5167, -3.66479],\n",
       "                {}\n",
       "            ).addTo(marker_cluster_4fbda8b6cb776c25019a1731bc7c26f2);\n",
       "        \n",
       "    \n",
       "            var marker_41d37e4b6bd245685fe90ccbbb00c2c7 = L.marker(\n",
       "                [38.8879, -77.4448],\n",
       "                {}\n",
       "            ).addTo(marker_cluster_4fbda8b6cb776c25019a1731bc7c26f2);\n",
       "        \n",
       "    \n",
       "            var marker_343be41c3c5873fb0e49216c3ed9fcf3 = L.marker(\n",
       "                [39.5524, 2.7781],\n",
       "                {}\n",
       "            ).addTo(marker_cluster_4fbda8b6cb776c25019a1731bc7c26f2);\n",
       "        \n",
       "    \n",
       "            var marker_639c89bc1d7d06fcf56e6e7c83bb1571 = L.marker(\n",
       "                [41.1607, 1.1082],\n",
       "                {}\n",
       "            ).addTo(marker_cluster_4fbda8b6cb776c25019a1731bc7c26f2);\n",
       "        \n",
       "    \n",
       "            var marker_ec2f409d321804f8358da4d7c6b82226 = L.marker(\n",
       "                [38.8879, -77.4448],\n",
       "                {}\n",
       "            ).addTo(marker_cluster_4fbda8b6cb776c25019a1731bc7c26f2);\n",
       "        \n",
       "    \n",
       "            var marker_59178beb3ce9a25e9842c5d4543907b6 = L.marker(\n",
       "                [40.4163, -3.6934],\n",
       "                {}\n",
       "            ).addTo(marker_cluster_4fbda8b6cb776c25019a1731bc7c26f2);\n",
       "        \n",
       "    \n",
       "            var marker_f12e0c3a9b5e79e691645891e01f05bd = L.marker(\n",
       "                [41.4656, 2.0794],\n",
       "                {}\n",
       "            ).addTo(marker_cluster_4fbda8b6cb776c25019a1731bc7c26f2);\n",
       "        \n",
       "    \n",
       "            var marker_6e1d988771d1d5870311c1bbe834a642 = L.marker(\n",
       "                [39.4923, -0.4046],\n",
       "                {}\n",
       "            ).addTo(marker_cluster_4fbda8b6cb776c25019a1731bc7c26f2);\n",
       "        \n",
       "    \n",
       "            var marker_1d1d41d290a940c7859c10e2887d4154 = L.marker(\n",
       "                [51.2705, 6.8144],\n",
       "                {}\n",
       "            ).addTo(marker_cluster_4fbda8b6cb776c25019a1731bc7c26f2);\n",
       "        \n",
       "    \n",
       "            var marker_b34f4d15ecf913c3425414e155bb7c80 = L.marker(\n",
       "                [39.5661, 2.6487],\n",
       "                {}\n",
       "            ).addTo(marker_cluster_4fbda8b6cb776c25019a1731bc7c26f2);\n",
       "        \n",
       "    \n",
       "            var marker_a24ca8c290b42c22fbbff733914d7058 = L.marker(\n",
       "                [43.3615, -5.8499],\n",
       "                {}\n",
       "            ).addTo(marker_cluster_4fbda8b6cb776c25019a1731bc7c26f2);\n",
       "        \n",
       "    \n",
       "            var marker_5eff74eba21434a6f0b9e6e372a828bd = L.marker(\n",
       "                [39.4923, -0.4046],\n",
       "                {}\n",
       "            ).addTo(marker_cluster_4fbda8b6cb776c25019a1731bc7c26f2);\n",
       "        \n",
       "    \n",
       "            var marker_1a57f63f345319927aa838e839fa110f = L.marker(\n",
       "                [36.6949, -6.1247],\n",
       "                {}\n",
       "            ).addTo(marker_cluster_4fbda8b6cb776c25019a1731bc7c26f2);\n",
       "        \n",
       "    \n",
       "            var marker_0e07f5cde12be62afc74822388b482aa = L.marker(\n",
       "                [40.4163, -3.6934],\n",
       "                {}\n",
       "            ).addTo(marker_cluster_4fbda8b6cb776c25019a1731bc7c26f2);\n",
       "        \n",
       "    \n",
       "            var marker_31b9e980b571e11e100a237815088b0d = L.marker(\n",
       "                [40.4163, -3.6934],\n",
       "                {}\n",
       "            ).addTo(marker_cluster_4fbda8b6cb776c25019a1731bc7c26f2);\n",
       "        \n",
       "    \n",
       "            var marker_7b451e2a93de2adfd33a863e6654862d = L.marker(\n",
       "                [50.475, 12.365],\n",
       "                {}\n",
       "            ).addTo(marker_cluster_4fbda8b6cb776c25019a1731bc7c26f2);\n",
       "        \n",
       "    \n",
       "            var marker_8cf8f092771057571e2a3bbd5e7fd4a7 = L.marker(\n",
       "                [55.7332, 37.5833],\n",
       "                {}\n",
       "            ).addTo(marker_cluster_4fbda8b6cb776c25019a1731bc7c26f2);\n",
       "        \n",
       "    \n",
       "            var marker_8fb7c8a8dd29813f91c89c230107a7d1 = L.marker(\n",
       "                [37.3391, -6.1411],\n",
       "                {}\n",
       "            ).addTo(marker_cluster_4fbda8b6cb776c25019a1731bc7c26f2);\n",
       "        \n",
       "    \n",
       "            var marker_7f8a818ccdedcbaba1fffab6c4dc3b50 = L.marker(\n",
       "                [40.4201, -3.5631],\n",
       "                {}\n",
       "            ).addTo(marker_cluster_4fbda8b6cb776c25019a1731bc7c26f2);\n",
       "        \n",
       "    \n",
       "            var marker_6ce4ecfe45f21ee42458ade53e04acb3 = L.marker(\n",
       "                [40.5502, -3.3316],\n",
       "                {}\n",
       "            ).addTo(marker_cluster_4fbda8b6cb776c25019a1731bc7c26f2);\n",
       "        \n",
       "    \n",
       "            var marker_a6c466036ef8fcd37f3d5905a7d1b8aa = L.marker(\n",
       "                [50.475, 12.365],\n",
       "                {}\n",
       "            ).addTo(marker_cluster_4fbda8b6cb776c25019a1731bc7c26f2);\n",
       "        \n",
       "    \n",
       "            var marker_1a032bbf3ece31e891e1c9f6e5021bfd = L.marker(\n",
       "                [37.9922, -1.13065],\n",
       "                {}\n",
       "            ).addTo(marker_cluster_4fbda8b6cb776c25019a1731bc7c26f2);\n",
       "        \n",
       "    \n",
       "            var marker_44ba382049e34150d81ca1583c4aae13 = L.marker(\n",
       "                [42.8087, -1.6628],\n",
       "                {}\n",
       "            ).addTo(marker_cluster_4fbda8b6cb776c25019a1731bc7c26f2);\n",
       "        \n",
       "    \n",
       "            var marker_7f90909441bbdef12c6ac0cb5d6c8dd0 = L.marker(\n",
       "                [45.7303, 9.40335],\n",
       "                {}\n",
       "            ).addTo(marker_cluster_4fbda8b6cb776c25019a1731bc7c26f2);\n",
       "        \n",
       "    \n",
       "            var marker_972ac8f224948e4371a2edbc7661b543 = L.marker(\n",
       "                [39.5661, 2.6487],\n",
       "                {}\n",
       "            ).addTo(marker_cluster_4fbda8b6cb776c25019a1731bc7c26f2);\n",
       "        \n",
       "    \n",
       "            var marker_88bbce1b30df7161958472f77b6d0daf = L.marker(\n",
       "                [40.4204, -3.70175],\n",
       "                {}\n",
       "            ).addTo(marker_cluster_4fbda8b6cb776c25019a1731bc7c26f2);\n",
       "        \n",
       "    \n",
       "            var marker_90b1230d7269c156dfac991c9aa1b915 = L.marker(\n",
       "                [39.5661, 2.6487],\n",
       "                {}\n",
       "            ).addTo(marker_cluster_4fbda8b6cb776c25019a1731bc7c26f2);\n",
       "        \n",
       "    \n",
       "            var marker_85c94edb36edea5138ccec724ead5166 = L.marker(\n",
       "                [43.5381, -5.6604],\n",
       "                {}\n",
       "            ).addTo(marker_cluster_4fbda8b6cb776c25019a1731bc7c26f2);\n",
       "        \n",
       "    \n",
       "            var marker_c7fd3642959025541911bf86e5a0a499 = L.marker(\n",
       "                [41.897, 12.4069],\n",
       "                {}\n",
       "            ).addTo(marker_cluster_4fbda8b6cb776c25019a1731bc7c26f2);\n",
       "        \n",
       "    \n",
       "            var marker_43d3a783874cddff5404be1104a8999c = L.marker(\n",
       "                [37.8943, -6.5561],\n",
       "                {}\n",
       "            ).addTo(marker_cluster_4fbda8b6cb776c25019a1731bc7c26f2);\n",
       "        \n",
       "    \n",
       "            var marker_5d38642c9d7a9bb359ce4f305401c3e3 = L.marker(\n",
       "                [40.4168, -3.70379],\n",
       "                {}\n",
       "            ).addTo(marker_cluster_4fbda8b6cb776c25019a1731bc7c26f2);\n",
       "        \n",
       "    \n",
       "            var marker_ad444e90957bfff35c3c05f1b6c719a6 = L.marker(\n",
       "                [40.5316, -3.63752],\n",
       "                {}\n",
       "            ).addTo(marker_cluster_4fbda8b6cb776c25019a1731bc7c26f2);\n",
       "        \n",
       "    \n",
       "            var marker_1f79d23e9a63eee6d1b903f34c93e6a1 = L.marker(\n",
       "                [38.9076, 1.4332],\n",
       "                {}\n",
       "            ).addTo(marker_cluster_4fbda8b6cb776c25019a1731bc7c26f2);\n",
       "        \n",
       "    \n",
       "            var marker_19c9ec9f9006173d7619d093212b8d74 = L.marker(\n",
       "                [41.387, 2.1701],\n",
       "                {}\n",
       "            ).addTo(marker_cluster_4fbda8b6cb776c25019a1731bc7c26f2);\n",
       "        \n",
       "    \n",
       "            var marker_abb6b2d15dcc1166fb7a581f362f974c = L.marker(\n",
       "                [41.3851, 2.1734],\n",
       "                {}\n",
       "            ).addTo(marker_cluster_4fbda8b6cb776c25019a1731bc7c26f2);\n",
       "        \n",
       "&lt;/script&gt;\" style=\"position:absolute;width:100%;height:100%;left:0;top:0;border:none !important;\" allowfullscreen webkitallowfullscreen mozallowfullscreen></iframe></div></div>"
      ],
      "text/plain": [
       "<folium.folium.Map at 0x1859a587190>"
      ]
     },
     "execution_count": 274,
     "metadata": {},
     "output_type": "execute_result"
    }
   ],
   "source": [
    "# importar folio en Python\n",
    "import folium\n",
    "from folium.plugins import MarkerCluster\n",
    "\n",
    "m = folium.Map(location=[40.4163,-3.69340],width=\"%100\",height=\"%100\")\n",
    "location= dfg_m[[\"lat\",\"lon\"]]\n",
    "#class folium.plugins.MarkerCluster(locations=None, popups=None, icons=None, name=None, overlay=True, control=True, show=True, icon_create_function=None, options=None, **kwargs)\n",
    "MarkerCluster(location,control=True, Show=True).add_to(m)\n",
    "m"
   ]
  },
  {
   "cell_type": "code",
   "execution_count": 275,
   "id": "027f2608-1e81-44f1-8ecb-5150c721bf0b",
   "metadata": {},
   "outputs": [],
   "source": [
    "m.save(\"Grafico2_Geolocalización_Country_Region.html\")"
   ]
  },
  {
   "cell_type": "markdown",
   "id": "3bc9be94-4da2-4304-b409-4c0bf6b0e21c",
   "metadata": {},
   "source": [
    "## Nivell 3\n",
    "### Exercici 3\n",
    "#### Mostra'm la teva creativitat, Sorprèn-me fes un pas més enllà amb l'anàlisi anterior.\n",
    "##### 3.1 Protocolo más común"
   ]
  },
  {
   "cell_type": "code",
   "execution_count": 276,
   "id": "d0d9a2db-5ec3-455d-8109-cf7b91301343",
   "metadata": {},
   "outputs": [
    {
     "data": {
      "image/png": "[encoded data removed]",
      "text/plain": [
       "<Figure size 648x648 with 1 Axes>"
      ]
     },
     "metadata": {},
     "output_type": "display_data"
    }
   ],
   "source": [
    "import matplotlib.pyplot as plt\n",
    "from matplotlib import cm\n",
    "from matplotlib import colors\n",
    "colors = ['#ff9999','#66b3ff','#99ff99','#ffcc99']\n",
    "dataRegEx[['request', 'hostTitle']].groupby('request').count().plot(kind='pie', figsize=(9,9), subplots=True, autopct='%1.1f%%',colors=colors,shadow=True);"
   ]
  },
  {
   "cell_type": "markdown",
   "id": "8b6f709b-2323-41a3-a770-85898ab78df2",
   "metadata": {},
   "source": [
    "###### El rpotocolo más común es el GET que supone el 83,01% de los datos informados en el Data Frame original"
   ]
  },
  {
   "cell_type": "markdown",
   "id": "955efebf-f5bf-4133-a3d0-d9f6f1d795ec",
   "metadata": {},
   "source": [
    "##### 3.2 Domínio más demandado - Relación entrel el HostTitle y el campo request:"
   ]
  },
  {
   "cell_type": "code",
   "execution_count": 277,
   "id": "d2af799a-f3dc-491d-949a-7402e31d50b5",
   "metadata": {},
   "outputs": [
    {
     "data": {
      "text/plain": [
       "<AxesSubplot:ylabel='hostTitle'>"
      ]
     },
     "execution_count": 277,
     "metadata": {},
     "output_type": "execute_result"
    },
    {
     "data": {
      "image/png": "[encoded data removed]",
      "text/plain": [
       "<Figure size 648x504 with 1 Axes>"
      ]
     },
     "metadata": {
      "needs_background": "light"
     },
     "output_type": "display_data"
    }
   ],
   "source": [
    "dataRegEx[['hostTitle', 'request']].groupby('hostTitle').count().sort_values(by='request', ascending=False).plot(kind='barh',color = \"orange\",figsize=(9,7))"
   ]
  },
  {
   "cell_type": "markdown",
   "id": "ad1f4686-daab-41ed-ba8f-148e108d76af",
   "metadata": {},
   "source": [
    "##### 3.3 Elementos más solicitados - relación entre requested/request:"
   ]
  },
  {
   "cell_type": "code",
   "execution_count": 278,
   "id": "d5b2148d-6ef8-4a26-afa8-f034ef2c8089",
   "metadata": {},
   "outputs": [
    {
     "data": {
      "text/html": [
       "<div>\n",
       "<style scoped>\n",
       "    .dataframe tbody tr th:only-of-type {\n",
       "        vertical-align: middle;\n",
       "    }\n",
       "\n",
       "    .dataframe tbody tr th {\n",
       "        vertical-align: top;\n",
       "    }\n",
       "\n",
       "    .dataframe thead th {\n",
       "        text-align: right;\n",
       "    }\n",
       "</style>\n",
       "<table border=\"1\" class=\"dataframe\">\n",
       "  <thead>\n",
       "    <tr style=\"text-align: right;\">\n",
       "      <th></th>\n",
       "      <th>request</th>\n",
       "    </tr>\n",
       "    <tr>\n",
       "      <th>requested</th>\n",
       "      <th></th>\n",
       "    </tr>\n",
       "  </thead>\n",
       "  <tbody>\n",
       "    <tr>\n",
       "      <th>/destinos-get</th>\n",
       "      <td>6818</td>\n",
       "    </tr>\n",
       "    <tr>\n",
       "      <th>/</th>\n",
       "      <td>3927</td>\n",
       "    </tr>\n",
       "    <tr>\n",
       "      <th>/hotel-list-data/</th>\n",
       "      <td>2093</td>\n",
       "    </tr>\n",
       "    <tr>\n",
       "      <th>/hotel-list</th>\n",
       "      <td>1442</td>\n",
       "    </tr>\n",
       "    <tr>\n",
       "      <th>/raton-search</th>\n",
       "      <td>1341</td>\n",
       "    </tr>\n",
       "    <tr>\n",
       "      <th>/hotels-consulted-update</th>\n",
       "      <td>1007</td>\n",
       "    </tr>\n",
       "    <tr>\n",
       "      <th>/icon.png</th>\n",
       "      <td>982</td>\n",
       "    </tr>\n",
       "    <tr>\n",
       "      <th>/includes/css/style.css</th>\n",
       "      <td>830</td>\n",
       "    </tr>\n",
       "    <tr>\n",
       "      <th>/includes/images/uploaded/logo.png</th>\n",
       "      <td>780</td>\n",
       "    </tr>\n",
       "    <tr>\n",
       "      <th>/newdesign/libraries/anythingSlider/images/1r.png</th>\n",
       "      <td>737</td>\n",
       "    </tr>\n",
       "  </tbody>\n",
       "</table>\n",
       "</div>"
      ],
      "text/plain": [
       "                                                   request\n",
       "requested                                                 \n",
       "/destinos-get                                         6818\n",
       "/                                                     3927\n",
       "/hotel-list-data/                                     2093\n",
       "/hotel-list                                           1442\n",
       "/raton-search                                         1341\n",
       "/hotels-consulted-update                              1007\n",
       "/icon.png                                              982\n",
       "/includes/css/style.css                                830\n",
       "/includes/images/uploaded/logo.png                     780\n",
       "/newdesign/libraries/anythingSlider/images/1r.png      737"
      ]
     },
     "execution_count": 278,
     "metadata": {},
     "output_type": "execute_result"
    }
   ],
   "source": [
    "dataRequested = dataRegEx[['request', 'requested']]\n",
    "#dataRequested_ok = dataRequested[(dataRequested[\"request\"] == \"GET\") & (dataRequested[\"requested\"] != \"/\")].groupby('requested').count().sort_values(by=\"request\", ascending=False)\n",
    "dataRequested_ok = dataRequested[dataRequested[\"requested\"] != \"*\"].groupby('requested').count().sort_values(by=\"request\", ascending=False)\n",
    "dataRequested_ok.head(10)"
   ]
  },
  {
   "cell_type": "code",
   "execution_count": 279,
   "id": "67b5a571-85f1-458b-837e-e43687906876",
   "metadata": {},
   "outputs": [
    {
     "name": "stdout",
     "output_type": "stream",
     "text": [
      "<class 'pandas.core.frame.DataFrame'>\n",
      "Index: 63454 entries, /destinos-get to /wp/wp-login.php\n",
      "Data columns (total 1 columns):\n",
      " #   Column   Non-Null Count  Dtype\n",
      "---  ------   --------------  -----\n",
      " 0   request  63454 non-null  int64\n",
      "dtypes: int64(1)\n",
      "memory usage: 991.5+ KB\n"
     ]
    }
   ],
   "source": [
    "dataRequested_ok.info()"
   ]
  },
  {
   "cell_type": "markdown",
   "id": "1145458e-c7fe-4197-b177-db9008c75dd3",
   "metadata": {},
   "source": [
    "##### Gráfico 4: Número de request por Requested (los 10 primeros)"
   ]
  },
  {
   "cell_type": "code",
   "execution_count": 280,
   "id": "a1d3c214-6aeb-4473-953c-1187437f210d",
   "metadata": {},
   "outputs": [
    {
     "data": {
      "image/png": "[encoded data removed]",
      "text/plain": [
       "<Figure size 648x504 with 1 Axes>"
      ]
     },
     "metadata": {
      "needs_background": "light"
     },
     "output_type": "display_data"
    }
   ],
   "source": [
    "dataRequested_ok.head(10).plot(kind='barh',color=\"pink\" ,figsize=(9,7));"
   ]
  }
 ],
 "metadata": {
  "kernelspec": {
   "display_name": "Python 3 (ipykernel)",
   "language": "python",
   "name": "python3"
  },
  "language_info": {
   "codemirror_mode": {
    "name": "ipython",
    "version": 3
   },
   "file_extension": ".py",
   "mimetype": "text/x-python",
   "name": "python",
   "nbconvert_exporter": "python",
   "pygments_lexer": "ipython3",
   "version": "3.9.7"
  }
 },
 "nbformat": 4,
 "nbformat_minor": 5
}
